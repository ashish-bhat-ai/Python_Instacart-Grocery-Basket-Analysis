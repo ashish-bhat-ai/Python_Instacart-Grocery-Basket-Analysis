{
 "cells": [
  {
   "cell_type": "markdown",
   "id": "0476b39b-f495-499c-a678-26a4c39d1ad3",
   "metadata": {},
   "source": [
    "# 4.10: Coding Etiquette & Excel Reporting"
   ]
  },
  {
   "cell_type": "markdown",
   "id": "e98f26e7-ff0e-41d0-af64-7f76551a0a6e",
   "metadata": {},
   "source": [
    "## 01. Importing libs and data\n",
    "## 02. Identifying and addressing PII data ( Data security )\n",
    "## 03. Region level spending flag\n",
    "## 04. Exclusion flag for low-activity customers\n",
    "## 05. Creating profiles based on age, income, number of dependents for marketing to target campaigns effectively\n",
    "## 06. Creating appropriate visualizations\n",
    "## 07. Aggregate the max, mean, and min variables on a customer-profile level for usage frequency and expenditure.\n",
    "## 08. Compare your customer profiles with regions and departments. Can you identify a link between them?\n",
    "## 09. Saving visualizations\n",
    "## 10. Exporting final dataframe"
   ]
  },
  {
   "cell_type": "markdown",
   "id": "d4ee1b63-e083-42ad-8729-f54c4ece0096",
   "metadata": {},
   "source": [
    "# 01. Importing libs and data\n"
   ]
  },
  {
   "cell_type": "code",
   "execution_count": 1,
   "id": "fe9f5875-07e6-48e1-b81c-3aa2d68dd24b",
   "metadata": {},
   "outputs": [],
   "source": [
    "import pandas as pd\n",
    "import numpy as np\n",
    "import os\n",
    "import matplotlib.pyplot as plt\n",
    "import seaborn as sns\n",
    "import scipy"
   ]
  },
  {
   "cell_type": "code",
   "execution_count": 2,
   "id": "1593b39c-34d5-417a-9324-df9a8561541e",
   "metadata": {},
   "outputs": [],
   "source": [
    "# defining path\n",
    "path = r'C:\\Users\\hiron\\Documents\\050924_Instakart Basket analysis'"
   ]
  },
  {
   "cell_type": "code",
   "execution_count": 3,
   "id": "4386099f-5e70-4ade-8bb1-70ee8d79162d",
   "metadata": {},
   "outputs": [],
   "source": [
    "ords_prods_merge = pd.read_pickle(os.path.join(path, '02 Data', 'Prepared Data', 'ords_prods_cust_merged.pkl'))"
   ]
  },
  {
   "cell_type": "code",
   "execution_count": 4,
   "id": "677e21ce-4159-4517-8b1c-6a261f185d73",
   "metadata": {},
   "outputs": [],
   "source": [
    "# Creating crosstab"
   ]
  },
  {
   "cell_type": "code",
   "execution_count": 5,
   "id": "8bc7e4e2-04ed-4f68-aabf-0a7b152dbb5c",
   "metadata": {},
   "outputs": [
    {
     "data": {
      "text/html": [
       "<div>\n",
       "<style scoped>\n",
       "    .dataframe tbody tr th:only-of-type {\n",
       "        vertical-align: middle;\n",
       "    }\n",
       "\n",
       "    .dataframe tbody tr th {\n",
       "        vertical-align: top;\n",
       "    }\n",
       "\n",
       "    .dataframe thead th {\n",
       "        text-align: right;\n",
       "    }\n",
       "</style>\n",
       "<table border=\"1\" class=\"dataframe\">\n",
       "  <thead>\n",
       "    <tr style=\"text-align: right;\">\n",
       "      <th></th>\n",
       "      <th>product_id</th>\n",
       "      <th>product_name</th>\n",
       "      <th>aisle_id</th>\n",
       "      <th>department_id</th>\n",
       "      <th>prices</th>\n",
       "      <th>order_id</th>\n",
       "      <th>user_id</th>\n",
       "      <th>number_of_orders</th>\n",
       "      <th>weekday</th>\n",
       "      <th>order_hour_of_day</th>\n",
       "      <th>...</th>\n",
       "      <th>frequency_flag</th>\n",
       "      <th>First Name</th>\n",
       "      <th>last name</th>\n",
       "      <th>Gender</th>\n",
       "      <th>state</th>\n",
       "      <th>Age</th>\n",
       "      <th>joining date</th>\n",
       "      <th>number of dependents</th>\n",
       "      <th>family status</th>\n",
       "      <th>income</th>\n",
       "    </tr>\n",
       "  </thead>\n",
       "  <tbody>\n",
       "    <tr>\n",
       "      <th>0</th>\n",
       "      <td>1</td>\n",
       "      <td>Chocolate Sandwich Cookies</td>\n",
       "      <td>61</td>\n",
       "      <td>19</td>\n",
       "      <td>5.8</td>\n",
       "      <td>3139998</td>\n",
       "      <td>138</td>\n",
       "      <td>28</td>\n",
       "      <td>6</td>\n",
       "      <td>11</td>\n",
       "      <td>...</td>\n",
       "      <td>Frequent customer</td>\n",
       "      <td>Charles</td>\n",
       "      <td>Cox</td>\n",
       "      <td>Male</td>\n",
       "      <td>Minnesota</td>\n",
       "      <td>81</td>\n",
       "      <td>8/1/2019</td>\n",
       "      <td>1</td>\n",
       "      <td>married</td>\n",
       "      <td>49620</td>\n",
       "    </tr>\n",
       "    <tr>\n",
       "      <th>1</th>\n",
       "      <td>1</td>\n",
       "      <td>Chocolate Sandwich Cookies</td>\n",
       "      <td>61</td>\n",
       "      <td>19</td>\n",
       "      <td>5.8</td>\n",
       "      <td>1977647</td>\n",
       "      <td>138</td>\n",
       "      <td>30</td>\n",
       "      <td>6</td>\n",
       "      <td>17</td>\n",
       "      <td>...</td>\n",
       "      <td>Frequent customer</td>\n",
       "      <td>Charles</td>\n",
       "      <td>Cox</td>\n",
       "      <td>Male</td>\n",
       "      <td>Minnesota</td>\n",
       "      <td>81</td>\n",
       "      <td>8/1/2019</td>\n",
       "      <td>1</td>\n",
       "      <td>married</td>\n",
       "      <td>49620</td>\n",
       "    </tr>\n",
       "    <tr>\n",
       "      <th>2</th>\n",
       "      <td>1</td>\n",
       "      <td>Chocolate Sandwich Cookies</td>\n",
       "      <td>61</td>\n",
       "      <td>19</td>\n",
       "      <td>5.8</td>\n",
       "      <td>389851</td>\n",
       "      <td>709</td>\n",
       "      <td>2</td>\n",
       "      <td>0</td>\n",
       "      <td>21</td>\n",
       "      <td>...</td>\n",
       "      <td>Frequent customer</td>\n",
       "      <td>Deborah</td>\n",
       "      <td>Glass</td>\n",
       "      <td>Female</td>\n",
       "      <td>Vermont</td>\n",
       "      <td>66</td>\n",
       "      <td>6/16/2018</td>\n",
       "      <td>2</td>\n",
       "      <td>married</td>\n",
       "      <td>158302</td>\n",
       "    </tr>\n",
       "    <tr>\n",
       "      <th>3</th>\n",
       "      <td>1</td>\n",
       "      <td>Chocolate Sandwich Cookies</td>\n",
       "      <td>61</td>\n",
       "      <td>19</td>\n",
       "      <td>5.8</td>\n",
       "      <td>652770</td>\n",
       "      <td>764</td>\n",
       "      <td>1</td>\n",
       "      <td>3</td>\n",
       "      <td>13</td>\n",
       "      <td>...</td>\n",
       "      <td>Frequent customer</td>\n",
       "      <td>Heather</td>\n",
       "      <td>Myers</td>\n",
       "      <td>Female</td>\n",
       "      <td>Wisconsin</td>\n",
       "      <td>40</td>\n",
       "      <td>2/9/2020</td>\n",
       "      <td>3</td>\n",
       "      <td>married</td>\n",
       "      <td>31308</td>\n",
       "    </tr>\n",
       "    <tr>\n",
       "      <th>4</th>\n",
       "      <td>1</td>\n",
       "      <td>Chocolate Sandwich Cookies</td>\n",
       "      <td>61</td>\n",
       "      <td>19</td>\n",
       "      <td>5.8</td>\n",
       "      <td>1813452</td>\n",
       "      <td>764</td>\n",
       "      <td>3</td>\n",
       "      <td>4</td>\n",
       "      <td>17</td>\n",
       "      <td>...</td>\n",
       "      <td>Frequent customer</td>\n",
       "      <td>Heather</td>\n",
       "      <td>Myers</td>\n",
       "      <td>Female</td>\n",
       "      <td>Wisconsin</td>\n",
       "      <td>40</td>\n",
       "      <td>2/9/2020</td>\n",
       "      <td>3</td>\n",
       "      <td>married</td>\n",
       "      <td>31308</td>\n",
       "    </tr>\n",
       "  </tbody>\n",
       "</table>\n",
       "<p>5 rows × 24 columns</p>\n",
       "</div>"
      ],
      "text/plain": [
       "   product_id                product_name  aisle_id  department_id  prices  \\\n",
       "0           1  Chocolate Sandwich Cookies        61             19     5.8   \n",
       "1           1  Chocolate Sandwich Cookies        61             19     5.8   \n",
       "2           1  Chocolate Sandwich Cookies        61             19     5.8   \n",
       "3           1  Chocolate Sandwich Cookies        61             19     5.8   \n",
       "4           1  Chocolate Sandwich Cookies        61             19     5.8   \n",
       "\n",
       "   order_id  user_id  number_of_orders  weekday  order_hour_of_day  ...  \\\n",
       "0   3139998      138                28        6                 11  ...   \n",
       "1   1977647      138                30        6                 17  ...   \n",
       "2    389851      709                 2        0                 21  ...   \n",
       "3    652770      764                 1        3                 13  ...   \n",
       "4   1813452      764                 3        4                 17  ...   \n",
       "\n",
       "      frequency_flag  First Name  last name  Gender      state Age  \\\n",
       "0  Frequent customer     Charles        Cox    Male  Minnesota  81   \n",
       "1  Frequent customer     Charles        Cox    Male  Minnesota  81   \n",
       "2  Frequent customer     Deborah      Glass  Female    Vermont  66   \n",
       "3  Frequent customer     Heather      Myers  Female  Wisconsin  40   \n",
       "4  Frequent customer     Heather      Myers  Female  Wisconsin  40   \n",
       "\n",
       "  joining date number of dependents family status  income  \n",
       "0     8/1/2019                    1       married   49620  \n",
       "1     8/1/2019                    1       married   49620  \n",
       "2    6/16/2018                    2       married  158302  \n",
       "3     2/9/2020                    3       married   31308  \n",
       "4     2/9/2020                    3       married   31308  \n",
       "\n",
       "[5 rows x 24 columns]"
      ]
     },
     "execution_count": 5,
     "metadata": {},
     "output_type": "execute_result"
    }
   ],
   "source": [
    "ords_prods_merge.head()"
   ]
  },
  {
   "cell_type": "code",
   "execution_count": 6,
   "id": "5ff7c940-e116-4c10-a51a-2e71bf334609",
   "metadata": {},
   "outputs": [
    {
     "data": {
      "text/plain": [
       "Index(['product_id', 'product_name', 'aisle_id', 'department_id', 'prices',\n",
       "       'order_id', 'user_id', 'number_of_orders', 'weekday',\n",
       "       'order_hour_of_day', 'days_since_prior_order', 'add_to_cart_order',\n",
       "       'max_order', 'loyalty_flag', 'frequency_flag', 'First Name',\n",
       "       'last name', 'Gender', 'state', 'Age', 'joining date',\n",
       "       'number of dependents', 'family status', 'income'],\n",
       "      dtype='object')"
      ]
     },
     "execution_count": 6,
     "metadata": {},
     "output_type": "execute_result"
    }
   ],
   "source": [
    "ords_prods_merge.columns"
   ]
  },
  {
   "cell_type": "code",
   "execution_count": 7,
   "id": "846da790-09c7-41ac-bec5-70bd4f8d06d5",
   "metadata": {},
   "outputs": [],
   "source": [
    "crosstab = pd.crosstab(ords_prods_merge['days_since_prior_order'], ords_prods_merge['number_of_orders'], dropna = False)"
   ]
  },
  {
   "cell_type": "code",
   "execution_count": 8,
   "id": "76877d48-503c-4519-89a7-46963764fb2d",
   "metadata": {},
   "outputs": [],
   "source": [
    "crosstab.to_clipboard()"
   ]
  },
  {
   "cell_type": "markdown",
   "id": "6c55cc5c-63af-4c55-83f4-10fd7eea7117",
   "metadata": {},
   "source": [
    "# 02. Identifying and addressing PII data ( Data security )"
   ]
  },
  {
   "cell_type": "code",
   "execution_count": 9,
   "id": "df6254be-16b5-4a91-abf1-c5bea80851bf",
   "metadata": {},
   "outputs": [],
   "source": [
    "# We have the first name and last name data which we will need to delete"
   ]
  },
  {
   "cell_type": "code",
   "execution_count": 10,
   "id": "29ef5d17-b9b6-451e-b546-3f9722d07c4e",
   "metadata": {},
   "outputs": [],
   "source": [
    "# First renaming our df for ease of operations"
   ]
  },
  {
   "cell_type": "code",
   "execution_count": 11,
   "id": "9535148c-ef32-4f27-97c1-9972a7020e15",
   "metadata": {},
   "outputs": [],
   "source": [
    "dff = ords_prods_merge"
   ]
  },
  {
   "cell_type": "code",
   "execution_count": 12,
   "id": "e29a28d7-66ce-4519-a60f-28760dbe07f4",
   "metadata": {},
   "outputs": [],
   "source": [
    "dff = dff.drop(['First Name', 'last name'], axis=1)"
   ]
  },
  {
   "cell_type": "code",
   "execution_count": 13,
   "id": "c4e6e962-da44-4255-a6a7-5cdc8bbfba75",
   "metadata": {},
   "outputs": [
    {
     "data": {
      "text/html": [
       "<div>\n",
       "<style scoped>\n",
       "    .dataframe tbody tr th:only-of-type {\n",
       "        vertical-align: middle;\n",
       "    }\n",
       "\n",
       "    .dataframe tbody tr th {\n",
       "        vertical-align: top;\n",
       "    }\n",
       "\n",
       "    .dataframe thead th {\n",
       "        text-align: right;\n",
       "    }\n",
       "</style>\n",
       "<table border=\"1\" class=\"dataframe\">\n",
       "  <thead>\n",
       "    <tr style=\"text-align: right;\">\n",
       "      <th></th>\n",
       "      <th>product_id</th>\n",
       "      <th>product_name</th>\n",
       "      <th>aisle_id</th>\n",
       "      <th>department_id</th>\n",
       "      <th>prices</th>\n",
       "      <th>order_id</th>\n",
       "      <th>user_id</th>\n",
       "      <th>number_of_orders</th>\n",
       "      <th>weekday</th>\n",
       "      <th>order_hour_of_day</th>\n",
       "      <th>...</th>\n",
       "      <th>max_order</th>\n",
       "      <th>loyalty_flag</th>\n",
       "      <th>frequency_flag</th>\n",
       "      <th>Gender</th>\n",
       "      <th>state</th>\n",
       "      <th>Age</th>\n",
       "      <th>joining date</th>\n",
       "      <th>number of dependents</th>\n",
       "      <th>family status</th>\n",
       "      <th>income</th>\n",
       "    </tr>\n",
       "  </thead>\n",
       "  <tbody>\n",
       "    <tr>\n",
       "      <th>0</th>\n",
       "      <td>1</td>\n",
       "      <td>Chocolate Sandwich Cookies</td>\n",
       "      <td>61</td>\n",
       "      <td>19</td>\n",
       "      <td>5.8</td>\n",
       "      <td>3139998</td>\n",
       "      <td>138</td>\n",
       "      <td>28</td>\n",
       "      <td>6</td>\n",
       "      <td>11</td>\n",
       "      <td>...</td>\n",
       "      <td>32</td>\n",
       "      <td>Regular customer</td>\n",
       "      <td>Frequent customer</td>\n",
       "      <td>Male</td>\n",
       "      <td>Minnesota</td>\n",
       "      <td>81</td>\n",
       "      <td>8/1/2019</td>\n",
       "      <td>1</td>\n",
       "      <td>married</td>\n",
       "      <td>49620</td>\n",
       "    </tr>\n",
       "    <tr>\n",
       "      <th>1</th>\n",
       "      <td>1</td>\n",
       "      <td>Chocolate Sandwich Cookies</td>\n",
       "      <td>61</td>\n",
       "      <td>19</td>\n",
       "      <td>5.8</td>\n",
       "      <td>1977647</td>\n",
       "      <td>138</td>\n",
       "      <td>30</td>\n",
       "      <td>6</td>\n",
       "      <td>17</td>\n",
       "      <td>...</td>\n",
       "      <td>32</td>\n",
       "      <td>Regular customer</td>\n",
       "      <td>Frequent customer</td>\n",
       "      <td>Male</td>\n",
       "      <td>Minnesota</td>\n",
       "      <td>81</td>\n",
       "      <td>8/1/2019</td>\n",
       "      <td>1</td>\n",
       "      <td>married</td>\n",
       "      <td>49620</td>\n",
       "    </tr>\n",
       "    <tr>\n",
       "      <th>2</th>\n",
       "      <td>1</td>\n",
       "      <td>Chocolate Sandwich Cookies</td>\n",
       "      <td>61</td>\n",
       "      <td>19</td>\n",
       "      <td>5.8</td>\n",
       "      <td>389851</td>\n",
       "      <td>709</td>\n",
       "      <td>2</td>\n",
       "      <td>0</td>\n",
       "      <td>21</td>\n",
       "      <td>...</td>\n",
       "      <td>5</td>\n",
       "      <td>New customer</td>\n",
       "      <td>Frequent customer</td>\n",
       "      <td>Female</td>\n",
       "      <td>Vermont</td>\n",
       "      <td>66</td>\n",
       "      <td>6/16/2018</td>\n",
       "      <td>2</td>\n",
       "      <td>married</td>\n",
       "      <td>158302</td>\n",
       "    </tr>\n",
       "    <tr>\n",
       "      <th>3</th>\n",
       "      <td>1</td>\n",
       "      <td>Chocolate Sandwich Cookies</td>\n",
       "      <td>61</td>\n",
       "      <td>19</td>\n",
       "      <td>5.8</td>\n",
       "      <td>652770</td>\n",
       "      <td>764</td>\n",
       "      <td>1</td>\n",
       "      <td>3</td>\n",
       "      <td>13</td>\n",
       "      <td>...</td>\n",
       "      <td>3</td>\n",
       "      <td>New customer</td>\n",
       "      <td>Frequent customer</td>\n",
       "      <td>Female</td>\n",
       "      <td>Wisconsin</td>\n",
       "      <td>40</td>\n",
       "      <td>2/9/2020</td>\n",
       "      <td>3</td>\n",
       "      <td>married</td>\n",
       "      <td>31308</td>\n",
       "    </tr>\n",
       "    <tr>\n",
       "      <th>4</th>\n",
       "      <td>1</td>\n",
       "      <td>Chocolate Sandwich Cookies</td>\n",
       "      <td>61</td>\n",
       "      <td>19</td>\n",
       "      <td>5.8</td>\n",
       "      <td>1813452</td>\n",
       "      <td>764</td>\n",
       "      <td>3</td>\n",
       "      <td>4</td>\n",
       "      <td>17</td>\n",
       "      <td>...</td>\n",
       "      <td>3</td>\n",
       "      <td>New customer</td>\n",
       "      <td>Frequent customer</td>\n",
       "      <td>Female</td>\n",
       "      <td>Wisconsin</td>\n",
       "      <td>40</td>\n",
       "      <td>2/9/2020</td>\n",
       "      <td>3</td>\n",
       "      <td>married</td>\n",
       "      <td>31308</td>\n",
       "    </tr>\n",
       "  </tbody>\n",
       "</table>\n",
       "<p>5 rows × 22 columns</p>\n",
       "</div>"
      ],
      "text/plain": [
       "   product_id                product_name  aisle_id  department_id  prices  \\\n",
       "0           1  Chocolate Sandwich Cookies        61             19     5.8   \n",
       "1           1  Chocolate Sandwich Cookies        61             19     5.8   \n",
       "2           1  Chocolate Sandwich Cookies        61             19     5.8   \n",
       "3           1  Chocolate Sandwich Cookies        61             19     5.8   \n",
       "4           1  Chocolate Sandwich Cookies        61             19     5.8   \n",
       "\n",
       "   order_id  user_id  number_of_orders  weekday  order_hour_of_day  ...  \\\n",
       "0   3139998      138                28        6                 11  ...   \n",
       "1   1977647      138                30        6                 17  ...   \n",
       "2    389851      709                 2        0                 21  ...   \n",
       "3    652770      764                 1        3                 13  ...   \n",
       "4   1813452      764                 3        4                 17  ...   \n",
       "\n",
       "   max_order      loyalty_flag     frequency_flag  Gender      state Age  \\\n",
       "0         32  Regular customer  Frequent customer    Male  Minnesota  81   \n",
       "1         32  Regular customer  Frequent customer    Male  Minnesota  81   \n",
       "2          5      New customer  Frequent customer  Female    Vermont  66   \n",
       "3          3      New customer  Frequent customer  Female  Wisconsin  40   \n",
       "4          3      New customer  Frequent customer  Female  Wisconsin  40   \n",
       "\n",
       "  joining date  number of dependents family status  income  \n",
       "0     8/1/2019                     1       married   49620  \n",
       "1     8/1/2019                     1       married   49620  \n",
       "2    6/16/2018                     2       married  158302  \n",
       "3     2/9/2020                     3       married   31308  \n",
       "4     2/9/2020                     3       married   31308  \n",
       "\n",
       "[5 rows x 22 columns]"
      ]
     },
     "execution_count": 13,
     "metadata": {},
     "output_type": "execute_result"
    }
   ],
   "source": [
    "dff.head()"
   ]
  },
  {
   "cell_type": "markdown",
   "id": "c80aecbe-6326-411e-b70c-36e49a30dc5a",
   "metadata": {},
   "source": [
    "# 03. Region level spending flag"
   ]
  },
  {
   "cell_type": "code",
   "execution_count": 14,
   "id": "aa80ba24-4585-4657-8217-aecacf5fa0ea",
   "metadata": {},
   "outputs": [],
   "source": [
    "# we will \n",
    "# 1. Create an empty list to store the values\n",
    "# 2. Write the code to map states to regions\n",
    "# 3. Transfer this list to a new column called region in the main dataframe\n"
   ]
  },
  {
   "cell_type": "code",
   "execution_count": 15,
   "id": "217d1d83-ce16-4772-8a4f-e814721adda7",
   "metadata": {},
   "outputs": [],
   "source": [
    "# 1.\n",
    "region_map = []"
   ]
  },
  {
   "cell_type": "code",
   "execution_count": 16,
   "id": "f03628d5-cd18-44f5-bc27-6d4e42fbca58",
   "metadata": {},
   "outputs": [],
   "source": [
    "#2.\n",
    "for state in dff[\"state\"]:\n",
    "    if state in ['Maine', 'New Hampshire', 'Vermont', 'Massachusetts', \n",
    "                 'Rhode Island', 'Connecticut', 'New York', 'Pennsylvania', \n",
    "                 'New Jersey']:\n",
    "        region_map.append(\"Northeast\")\n",
    "    elif state in ['Wisconsin', 'Michigan', 'Illinois', 'Indiana', 'Ohio', \n",
    "                   'North Dakota', 'South Dakota', 'Nebraska', 'Kansas', \n",
    "                   'Minnesota', 'Iowa', 'Missouri']:\n",
    "        region_map.append(\"Midwest\")\n",
    "    elif state in ['Delaware', 'Maryland', 'District of Columbia', 'Virginia', \n",
    "                   'West Virginia', 'North Carolina', 'South Carolina', 'Georgia', \n",
    "                   'Florida', 'Kentucky', 'Tennessee', 'Mississippi', 'Alabama', \n",
    "                   'Oklahoma', 'Texas', 'Arkansas', 'Louisiana']:\n",
    "        region_map.append(\"South\")\n",
    "    elif state in ['Idaho', 'Montana', 'Wyoming', 'Nevada', 'Utah', 'Colorado', \n",
    "                   'Arizona', 'New Mexico', 'Alaska', 'Washington', 'Oregon', \n",
    "                   'California', 'Hawaii']:\n",
    "        region_map.append(\"West\")\n",
    "    else:\n",
    "        region_map.append(\"Unknown\")"
   ]
  },
  {
   "cell_type": "code",
   "execution_count": 17,
   "id": "b01e4114-0740-49fb-9215-771fbbccacee",
   "metadata": {},
   "outputs": [],
   "source": [
    "# 3.\n",
    "dff['region'] = region_map"
   ]
  },
  {
   "cell_type": "code",
   "execution_count": 18,
   "id": "30cfd507-4f98-4e2a-9880-6275570cc592",
   "metadata": {},
   "outputs": [
    {
     "data": {
      "text/html": [
       "<div>\n",
       "<style scoped>\n",
       "    .dataframe tbody tr th:only-of-type {\n",
       "        vertical-align: middle;\n",
       "    }\n",
       "\n",
       "    .dataframe tbody tr th {\n",
       "        vertical-align: top;\n",
       "    }\n",
       "\n",
       "    .dataframe thead th {\n",
       "        text-align: right;\n",
       "    }\n",
       "</style>\n",
       "<table border=\"1\" class=\"dataframe\">\n",
       "  <thead>\n",
       "    <tr style=\"text-align: right;\">\n",
       "      <th></th>\n",
       "      <th>product_id</th>\n",
       "      <th>product_name</th>\n",
       "      <th>aisle_id</th>\n",
       "      <th>department_id</th>\n",
       "      <th>prices</th>\n",
       "      <th>order_id</th>\n",
       "      <th>user_id</th>\n",
       "      <th>number_of_orders</th>\n",
       "      <th>weekday</th>\n",
       "      <th>order_hour_of_day</th>\n",
       "      <th>...</th>\n",
       "      <th>loyalty_flag</th>\n",
       "      <th>frequency_flag</th>\n",
       "      <th>Gender</th>\n",
       "      <th>state</th>\n",
       "      <th>Age</th>\n",
       "      <th>joining date</th>\n",
       "      <th>number of dependents</th>\n",
       "      <th>family status</th>\n",
       "      <th>income</th>\n",
       "      <th>region</th>\n",
       "    </tr>\n",
       "  </thead>\n",
       "  <tbody>\n",
       "    <tr>\n",
       "      <th>0</th>\n",
       "      <td>1</td>\n",
       "      <td>Chocolate Sandwich Cookies</td>\n",
       "      <td>61</td>\n",
       "      <td>19</td>\n",
       "      <td>5.8</td>\n",
       "      <td>3139998</td>\n",
       "      <td>138</td>\n",
       "      <td>28</td>\n",
       "      <td>6</td>\n",
       "      <td>11</td>\n",
       "      <td>...</td>\n",
       "      <td>Regular customer</td>\n",
       "      <td>Frequent customer</td>\n",
       "      <td>Male</td>\n",
       "      <td>Minnesota</td>\n",
       "      <td>81</td>\n",
       "      <td>8/1/2019</td>\n",
       "      <td>1</td>\n",
       "      <td>married</td>\n",
       "      <td>49620</td>\n",
       "      <td>Midwest</td>\n",
       "    </tr>\n",
       "    <tr>\n",
       "      <th>1</th>\n",
       "      <td>1</td>\n",
       "      <td>Chocolate Sandwich Cookies</td>\n",
       "      <td>61</td>\n",
       "      <td>19</td>\n",
       "      <td>5.8</td>\n",
       "      <td>1977647</td>\n",
       "      <td>138</td>\n",
       "      <td>30</td>\n",
       "      <td>6</td>\n",
       "      <td>17</td>\n",
       "      <td>...</td>\n",
       "      <td>Regular customer</td>\n",
       "      <td>Frequent customer</td>\n",
       "      <td>Male</td>\n",
       "      <td>Minnesota</td>\n",
       "      <td>81</td>\n",
       "      <td>8/1/2019</td>\n",
       "      <td>1</td>\n",
       "      <td>married</td>\n",
       "      <td>49620</td>\n",
       "      <td>Midwest</td>\n",
       "    </tr>\n",
       "    <tr>\n",
       "      <th>2</th>\n",
       "      <td>1</td>\n",
       "      <td>Chocolate Sandwich Cookies</td>\n",
       "      <td>61</td>\n",
       "      <td>19</td>\n",
       "      <td>5.8</td>\n",
       "      <td>389851</td>\n",
       "      <td>709</td>\n",
       "      <td>2</td>\n",
       "      <td>0</td>\n",
       "      <td>21</td>\n",
       "      <td>...</td>\n",
       "      <td>New customer</td>\n",
       "      <td>Frequent customer</td>\n",
       "      <td>Female</td>\n",
       "      <td>Vermont</td>\n",
       "      <td>66</td>\n",
       "      <td>6/16/2018</td>\n",
       "      <td>2</td>\n",
       "      <td>married</td>\n",
       "      <td>158302</td>\n",
       "      <td>Northeast</td>\n",
       "    </tr>\n",
       "    <tr>\n",
       "      <th>3</th>\n",
       "      <td>1</td>\n",
       "      <td>Chocolate Sandwich Cookies</td>\n",
       "      <td>61</td>\n",
       "      <td>19</td>\n",
       "      <td>5.8</td>\n",
       "      <td>652770</td>\n",
       "      <td>764</td>\n",
       "      <td>1</td>\n",
       "      <td>3</td>\n",
       "      <td>13</td>\n",
       "      <td>...</td>\n",
       "      <td>New customer</td>\n",
       "      <td>Frequent customer</td>\n",
       "      <td>Female</td>\n",
       "      <td>Wisconsin</td>\n",
       "      <td>40</td>\n",
       "      <td>2/9/2020</td>\n",
       "      <td>3</td>\n",
       "      <td>married</td>\n",
       "      <td>31308</td>\n",
       "      <td>Midwest</td>\n",
       "    </tr>\n",
       "    <tr>\n",
       "      <th>4</th>\n",
       "      <td>1</td>\n",
       "      <td>Chocolate Sandwich Cookies</td>\n",
       "      <td>61</td>\n",
       "      <td>19</td>\n",
       "      <td>5.8</td>\n",
       "      <td>1813452</td>\n",
       "      <td>764</td>\n",
       "      <td>3</td>\n",
       "      <td>4</td>\n",
       "      <td>17</td>\n",
       "      <td>...</td>\n",
       "      <td>New customer</td>\n",
       "      <td>Frequent customer</td>\n",
       "      <td>Female</td>\n",
       "      <td>Wisconsin</td>\n",
       "      <td>40</td>\n",
       "      <td>2/9/2020</td>\n",
       "      <td>3</td>\n",
       "      <td>married</td>\n",
       "      <td>31308</td>\n",
       "      <td>Midwest</td>\n",
       "    </tr>\n",
       "  </tbody>\n",
       "</table>\n",
       "<p>5 rows × 23 columns</p>\n",
       "</div>"
      ],
      "text/plain": [
       "   product_id                product_name  aisle_id  department_id  prices  \\\n",
       "0           1  Chocolate Sandwich Cookies        61             19     5.8   \n",
       "1           1  Chocolate Sandwich Cookies        61             19     5.8   \n",
       "2           1  Chocolate Sandwich Cookies        61             19     5.8   \n",
       "3           1  Chocolate Sandwich Cookies        61             19     5.8   \n",
       "4           1  Chocolate Sandwich Cookies        61             19     5.8   \n",
       "\n",
       "   order_id  user_id  number_of_orders  weekday  order_hour_of_day  ...  \\\n",
       "0   3139998      138                28        6                 11  ...   \n",
       "1   1977647      138                30        6                 17  ...   \n",
       "2    389851      709                 2        0                 21  ...   \n",
       "3    652770      764                 1        3                 13  ...   \n",
       "4   1813452      764                 3        4                 17  ...   \n",
       "\n",
       "       loyalty_flag     frequency_flag  Gender      state Age joining date  \\\n",
       "0  Regular customer  Frequent customer    Male  Minnesota  81     8/1/2019   \n",
       "1  Regular customer  Frequent customer    Male  Minnesota  81     8/1/2019   \n",
       "2      New customer  Frequent customer  Female    Vermont  66    6/16/2018   \n",
       "3      New customer  Frequent customer  Female  Wisconsin  40     2/9/2020   \n",
       "4      New customer  Frequent customer  Female  Wisconsin  40     2/9/2020   \n",
       "\n",
       "  number of dependents  family status  income     region  \n",
       "0                    1        married   49620    Midwest  \n",
       "1                    1        married   49620    Midwest  \n",
       "2                    2        married  158302  Northeast  \n",
       "3                    3        married   31308    Midwest  \n",
       "4                    3        married   31308    Midwest  \n",
       "\n",
       "[5 rows x 23 columns]"
      ]
     },
     "execution_count": 18,
     "metadata": {},
     "output_type": "execute_result"
    }
   ],
   "source": [
    "dff.head()"
   ]
  },
  {
   "cell_type": "code",
   "execution_count": 19,
   "id": "43a72109-0087-43dc-b0a6-a46d4e10a546",
   "metadata": {},
   "outputs": [
    {
     "data": {
      "text/plain": [
       "(32404859, 23)"
      ]
     },
     "execution_count": 19,
     "metadata": {},
     "output_type": "execute_result"
    }
   ],
   "source": [
    "dff.shape"
   ]
  },
  {
   "cell_type": "markdown",
   "id": "557267e1-07a8-40e3-8728-5a5ec8e8ed0d",
   "metadata": {},
   "source": [
    "## 03. Part 2 , since I deleted spending flag from this df before, I am going to recreate it"
   ]
  },
  {
   "cell_type": "code",
   "execution_count": 20,
   "id": "65009e9f-b155-4874-9540-b97898e9dd6f",
   "metadata": {},
   "outputs": [],
   "source": [
    "dff['mean_price'] = dff.groupby(['user_id'])['prices'].transform('mean')"
   ]
  },
  {
   "cell_type": "code",
   "execution_count": 21,
   "id": "7cfba982-8a83-4429-a80f-6e36d53f55cf",
   "metadata": {},
   "outputs": [],
   "source": [
    "# assigning flags"
   ]
  },
  {
   "cell_type": "code",
   "execution_count": 22,
   "id": "cd208f85-4436-4e1c-8d30-cbb3d19011d4",
   "metadata": {},
   "outputs": [],
   "source": [
    "dff.loc[dff['mean_price']>=10 , 'spending_flag'] = 'High-spender'"
   ]
  },
  {
   "cell_type": "code",
   "execution_count": 23,
   "id": "df1a4264-0e7c-46e4-836d-cc4fa743f073",
   "metadata": {},
   "outputs": [],
   "source": [
    "dff.loc[dff['mean_price']<10 , 'spending_flag'] = 'Low-spender'"
   ]
  },
  {
   "cell_type": "code",
   "execution_count": 24,
   "id": "38c564a8-dbcb-4c72-b539-9ea9d951a256",
   "metadata": {},
   "outputs": [
    {
     "data": {
      "text/html": [
       "<div>\n",
       "<style scoped>\n",
       "    .dataframe tbody tr th:only-of-type {\n",
       "        vertical-align: middle;\n",
       "    }\n",
       "\n",
       "    .dataframe tbody tr th {\n",
       "        vertical-align: top;\n",
       "    }\n",
       "\n",
       "    .dataframe thead th {\n",
       "        text-align: right;\n",
       "    }\n",
       "</style>\n",
       "<table border=\"1\" class=\"dataframe\">\n",
       "  <thead>\n",
       "    <tr style=\"text-align: right;\">\n",
       "      <th></th>\n",
       "      <th>user_id</th>\n",
       "      <th>spending_flag</th>\n",
       "      <th>mean_price</th>\n",
       "    </tr>\n",
       "  </thead>\n",
       "  <tbody>\n",
       "    <tr>\n",
       "      <th>0</th>\n",
       "      <td>138</td>\n",
       "      <td>Low-spender</td>\n",
       "      <td>6.935811</td>\n",
       "    </tr>\n",
       "    <tr>\n",
       "      <th>1</th>\n",
       "      <td>138</td>\n",
       "      <td>Low-spender</td>\n",
       "      <td>6.935811</td>\n",
       "    </tr>\n",
       "    <tr>\n",
       "      <th>2</th>\n",
       "      <td>709</td>\n",
       "      <td>Low-spender</td>\n",
       "      <td>7.930208</td>\n",
       "    </tr>\n",
       "    <tr>\n",
       "      <th>3</th>\n",
       "      <td>764</td>\n",
       "      <td>Low-spender</td>\n",
       "      <td>4.972414</td>\n",
       "    </tr>\n",
       "    <tr>\n",
       "      <th>4</th>\n",
       "      <td>764</td>\n",
       "      <td>Low-spender</td>\n",
       "      <td>4.972414</td>\n",
       "    </tr>\n",
       "    <tr>\n",
       "      <th>5</th>\n",
       "      <td>777</td>\n",
       "      <td>Low-spender</td>\n",
       "      <td>6.935398</td>\n",
       "    </tr>\n",
       "    <tr>\n",
       "      <th>6</th>\n",
       "      <td>825</td>\n",
       "      <td>Low-spender</td>\n",
       "      <td>5.957576</td>\n",
       "    </tr>\n",
       "    <tr>\n",
       "      <th>7</th>\n",
       "      <td>910</td>\n",
       "      <td>Low-spender</td>\n",
       "      <td>6.680000</td>\n",
       "    </tr>\n",
       "    <tr>\n",
       "      <th>8</th>\n",
       "      <td>1052</td>\n",
       "      <td>Low-spender</td>\n",
       "      <td>7.162500</td>\n",
       "    </tr>\n",
       "    <tr>\n",
       "      <th>9</th>\n",
       "      <td>1052</td>\n",
       "      <td>Low-spender</td>\n",
       "      <td>7.162500</td>\n",
       "    </tr>\n",
       "    <tr>\n",
       "      <th>10</th>\n",
       "      <td>1379</td>\n",
       "      <td>Low-spender</td>\n",
       "      <td>5.813636</td>\n",
       "    </tr>\n",
       "    <tr>\n",
       "      <th>11</th>\n",
       "      <td>1480</td>\n",
       "      <td>Low-spender</td>\n",
       "      <td>5.081633</td>\n",
       "    </tr>\n",
       "    <tr>\n",
       "      <th>12</th>\n",
       "      <td>1480</td>\n",
       "      <td>Low-spender</td>\n",
       "      <td>5.081633</td>\n",
       "    </tr>\n",
       "    <tr>\n",
       "      <th>13</th>\n",
       "      <td>1480</td>\n",
       "      <td>Low-spender</td>\n",
       "      <td>5.081633</td>\n",
       "    </tr>\n",
       "    <tr>\n",
       "      <th>14</th>\n",
       "      <td>1494</td>\n",
       "      <td>Low-spender</td>\n",
       "      <td>6.803797</td>\n",
       "    </tr>\n",
       "    <tr>\n",
       "      <th>15</th>\n",
       "      <td>1494</td>\n",
       "      <td>Low-spender</td>\n",
       "      <td>6.803797</td>\n",
       "    </tr>\n",
       "    <tr>\n",
       "      <th>16</th>\n",
       "      <td>1494</td>\n",
       "      <td>Low-spender</td>\n",
       "      <td>6.803797</td>\n",
       "    </tr>\n",
       "    <tr>\n",
       "      <th>17</th>\n",
       "      <td>1540</td>\n",
       "      <td>Low-spender</td>\n",
       "      <td>6.607122</td>\n",
       "    </tr>\n",
       "    <tr>\n",
       "      <th>18</th>\n",
       "      <td>1540</td>\n",
       "      <td>Low-spender</td>\n",
       "      <td>6.607122</td>\n",
       "    </tr>\n",
       "    <tr>\n",
       "      <th>19</th>\n",
       "      <td>1540</td>\n",
       "      <td>Low-spender</td>\n",
       "      <td>6.607122</td>\n",
       "    </tr>\n",
       "  </tbody>\n",
       "</table>\n",
       "</div>"
      ],
      "text/plain": [
       "    user_id spending_flag  mean_price\n",
       "0       138   Low-spender    6.935811\n",
       "1       138   Low-spender    6.935811\n",
       "2       709   Low-spender    7.930208\n",
       "3       764   Low-spender    4.972414\n",
       "4       764   Low-spender    4.972414\n",
       "5       777   Low-spender    6.935398\n",
       "6       825   Low-spender    5.957576\n",
       "7       910   Low-spender    6.680000\n",
       "8      1052   Low-spender    7.162500\n",
       "9      1052   Low-spender    7.162500\n",
       "10     1379   Low-spender    5.813636\n",
       "11     1480   Low-spender    5.081633\n",
       "12     1480   Low-spender    5.081633\n",
       "13     1480   Low-spender    5.081633\n",
       "14     1494   Low-spender    6.803797\n",
       "15     1494   Low-spender    6.803797\n",
       "16     1494   Low-spender    6.803797\n",
       "17     1540   Low-spender    6.607122\n",
       "18     1540   Low-spender    6.607122\n",
       "19     1540   Low-spender    6.607122"
      ]
     },
     "execution_count": 24,
     "metadata": {},
     "output_type": "execute_result"
    }
   ],
   "source": [
    "dff[['user_id', 'spending_flag', 'mean_price']].head(20)"
   ]
  },
  {
   "cell_type": "code",
   "execution_count": 25,
   "id": "ee4af45e-73ef-4645-ad77-01077e646804",
   "metadata": {},
   "outputs": [],
   "source": [
    "# Remove duplicate user IDs to get unique users\n",
    "dff_unique_customers = dff.drop_duplicates(subset='user_id')"
   ]
  },
  {
   "cell_type": "code",
   "execution_count": 26,
   "id": "61f222a3-1ded-4791-9cd0-3cec520f6f6b",
   "metadata": {},
   "outputs": [],
   "source": [
    "# Create the crosstab with unique users for spending habits by region\n",
    "spending_crosstab_unique = pd.crosstab(dff_unique_customers['region'], dff_unique_customers['spending_flag'])"
   ]
  },
  {
   "cell_type": "code",
   "execution_count": 27,
   "id": "a122682c-8271-41e1-a2cb-29cb188d4fc8",
   "metadata": {},
   "outputs": [
    {
     "name": "stdout",
     "output_type": "stream",
     "text": [
      "spending_flag  High-spender  Low-spender\n",
      "region                                  \n",
      "Midwest                1263        47256\n",
      "Northeast               883        35505\n",
      "South                  1817        66920\n",
      "West                   1394        51171\n"
     ]
    }
   ],
   "source": [
    "# Display the results\n",
    "print(spending_crosstab_unique)"
   ]
  },
  {
   "cell_type": "markdown",
   "id": "d1ea75b2-2da4-4e3f-bb8b-7a41f276f58c",
   "metadata": {},
   "source": [
    "### From a marketing perspective, since , we should ideally categorize the spending habots in more buckets since the % high spendors is quite low to relay meaningful information"
   ]
  },
  {
   "cell_type": "markdown",
   "id": "e4369c71-99cd-4643-8ec4-be0a3f6af17a",
   "metadata": {},
   "source": [
    "### From the data above, the highest number of high spednors are in the South region while the lowest ones. In terms of the prportion of high to low spendors, there is not much difference between the regions"
   ]
  },
  {
   "cell_type": "markdown",
   "id": "89e42037-ac4b-4246-b917-3e19d6ca1eca",
   "metadata": {},
   "source": [
    "# 04. Exclusion flag for low-activity customers"
   ]
  },
  {
   "cell_type": "code",
   "execution_count": 28,
   "id": "17e7c8a5-2300-477c-a3b5-0a36728accaa",
   "metadata": {},
   "outputs": [],
   "source": [
    "# Create a max_order column with the maximum number_of_orders for each user_id\n",
    "dff['max_order'] = dff.groupby('user_id')['number_of_orders'].transform('max')"
   ]
  },
  {
   "cell_type": "code",
   "execution_count": 29,
   "id": "54ec9cfa-dc40-4b95-8f81-31452dcdcdba",
   "metadata": {},
   "outputs": [],
   "source": [
    "# Create an exclusion flag based on the max_order column\n",
    "dff['exclusion_flag'] = dff['max_order'] < 5"
   ]
  },
  {
   "cell_type": "code",
   "execution_count": 30,
   "id": "6f48b620-770a-4767-b2c2-8392a14d18a2",
   "metadata": {},
   "outputs": [],
   "source": [
    "# Value counts for excluded and non-excluded customers\n",
    "exclusion_counts = dff['exclusion_flag'].value_counts()"
   ]
  },
  {
   "cell_type": "code",
   "execution_count": 31,
   "id": "87981b3f-8bca-4024-8e1f-8b1f1fa23a78",
   "metadata": {},
   "outputs": [
    {
     "data": {
      "text/plain": [
       "exclusion_flag\n",
       "False    30964564\n",
       "True      1440295\n",
       "Name: count, dtype: int64"
      ]
     },
     "execution_count": 31,
     "metadata": {},
     "output_type": "execute_result"
    }
   ],
   "source": [
    "exclusion_counts"
   ]
  },
  {
   "cell_type": "code",
   "execution_count": 32,
   "id": "6d8fe389-ef57-4d5f-b093-c609381facff",
   "metadata": {},
   "outputs": [],
   "source": [
    "# Filter out low-activity customers (non-excluded)\n",
    "dff_active_customers = dff[dff['exclusion_flag'] == False]"
   ]
  },
  {
   "cell_type": "code",
   "execution_count": 33,
   "id": "e0a4f10b-aa86-4270-9a97-42b386fe1a0c",
   "metadata": {},
   "outputs": [],
   "source": [
    "# Export as a pickle file\n",
    "dff_active_customers.to_pickle(os.path.join(path, '02 Data', 'Prepared Data', 'active_customers410.pkl'))"
   ]
  },
  {
   "cell_type": "markdown",
   "id": "249621cf-179a-40e4-a1f8-401e7d8047c6",
   "metadata": {},
   "source": [
    "# 05. Creating profiles based on age, income, number of dependents for marketing to target campaigns effectively"
   ]
  },
  {
   "cell_type": "code",
   "execution_count": 34,
   "id": "6469c3a3-e119-44df-9f0e-89eb074617f5",
   "metadata": {},
   "outputs": [],
   "source": [
    "# Function to assign customer profile based on demographics and purchasing behavior\n",
    "def profile_customer(row):\n",
    "    # Profile based on age, income, number of dependents, department, order time, and order day\n",
    "    if row['Age'] < 30 and row['income'] < 50000 and row['number of dependents'] <= 1:\n",
    "        if row['department_id'] in [19, 21, 24]:  # snacks, alcohol, frozen foods\n",
    "            return 'Young Adult'\n",
    "    elif 25 <= row['Age'] < 40 and row['income'] >= 50000 and row['number of dependents'] <= 2:\n",
    "        if row['department_id'] in [6, 16, 17, 7]:  # baby products, dairy, snacks, breakfast foods\n",
    "            return 'Young Parent'\n",
    "    elif 30 <= row['Age'] <= 50 and row['income'] >= 50000 and row['number of dependents'] > 1:\n",
    "        if row['department_id'] in [5, 16, 4, 12]:  # household, dairy, produce, meat/seafood\n",
    "            return 'Established Family'\n",
    "    elif row['Age'] > 50 and row['income'] >= 60000 and row['number of dependents'] == 0:\n",
    "        if row['department_id'] in [4, 16, 10, 8]:  # produce, dairy, health & wellness, beverages\n",
    "            return 'Older Adult'\n",
    "    return 'Other'  # For customers not fitting any specific profile"
   ]
  },
  {
   "cell_type": "code",
   "execution_count": 35,
   "id": "3cc30dd2-d4bd-4203-bdbc-ce377c2f87e3",
   "metadata": {},
   "outputs": [],
   "source": [
    "# Apply profile_customer function to each row of dff to create a new 'profile' column\n",
    "dff['profile'] = dff.apply(profile_customer, axis=1)"
   ]
  },
  {
   "cell_type": "markdown",
   "id": "71a5e0ab-5b0d-4255-b5be-b50b42be6b1c",
   "metadata": {},
   "source": [
    "# 06. Creating appropriate visualizations"
   ]
  },
  {
   "cell_type": "code",
   "execution_count": 36,
   "id": "65f0d485-8e6c-49ea-bd12-20a2905ffa55",
   "metadata": {},
   "outputs": [],
   "source": [
    "# Calculate profile distribution\n",
    "profile_counts =dff['profile'].value_counts()"
   ]
  },
  {
   "cell_type": "code",
   "execution_count": 37,
   "id": "56ff72e7-dbfc-4a5a-905b-1372e98c00e7",
   "metadata": {},
   "outputs": [
    {
     "data": {
      "text/plain": [
       "profile\n",
       "Other                 27549887\n",
       "Established Family     1792131\n",
       "Older Adult            1652471\n",
       "Young Parent           1335516\n",
       "Young Adult              74854\n",
       "Name: count, dtype: int64"
      ]
     },
     "execution_count": 37,
     "metadata": {},
     "output_type": "execute_result"
    }
   ],
   "source": [
    "profile_counts"
   ]
  },
  {
   "cell_type": "code",
   "execution_count": 38,
   "id": "7e893125-fdc0-4c20-896c-950e79019182",
   "metadata": {},
   "outputs": [],
   "source": [
    "# even though we have many counts in Other, we will proceed as this can help focus our marketing efforts\n",
    "# based on the results from first marketing campaigns, we can tweak the profile criteria to expand them if needed"
   ]
  },
  {
   "cell_type": "code",
   "execution_count": 55,
   "id": "105cc95d-0344-4d97-8164-689d44d5b856",
   "metadata": {},
   "outputs": [
    {
     "data": {
      "image/png": "[encoded data removed]",
      "text/plain": [
       "<Figure size 1000x600 with 1 Axes>"
      ]
     },
     "metadata": {},
     "output_type": "display_data"
    }
   ],
   "source": [
    "# Plot the distribution of profiles as a bar chart\n",
    "fig_profiledist= plt.figure(figsize=(10, 6))\n",
    "profile_counts.plot(kind='bar')\n",
    "\n",
    "# Add titles and labels\n",
    "plt.title('Distribution of Customer Profiles')\n",
    "plt.xlabel('Customer Profile')\n",
    "plt.ylabel('Number of Customers')\n",
    "plt.xticks(rotation=45)\n",
    "\n",
    "# Display the plot\n",
    "plt.show()"
   ]
  },
  {
   "cell_type": "code",
   "execution_count": 54,
   "id": "2f91694e-a4cb-4faf-ab6a-e7b3a47ea20b",
   "metadata": {},
   "outputs": [
    {
     "data": {
      "image/png": "[encoded data removed]",
      "text/plain": [
       "<Figure size 1000x600 with 1 Axes>"
      ]
     },
     "metadata": {},
     "output_type": "display_data"
    }
   ],
   "source": [
    "# Filter out the \"Other\" category\n",
    "profile_counts_filtered = dff['profile'].value_counts().drop('Other', errors='ignore')\n",
    "\n",
    "# Plot the distribution of profiles as a horizontal bar chart\n",
    "fig_profiledist_hor = plt.figure(figsize=(10, 6))\n",
    "profile_counts_filtered.plot(kind='barh', color='skyblue')\n",
    "\n",
    "# Add titles and labels\n",
    "plt.title('Distribution of Customer Profiles (Excluding \"Other\")')\n",
    "plt.xlabel('Number of Customers')\n",
    "plt.ylabel('Customer Profile')\n",
    "\n",
    "# Display the plot\n",
    "plt.show()"
   ]
  },
  {
   "cell_type": "markdown",
   "id": "00c4db2a-72b3-4bff-8c20-56c55b6bf667",
   "metadata": {},
   "source": [
    "# 07. Aggregate the max, mean, and min variables on a customer-profile level for usage frequency and expenditure."
   ]
  },
  {
   "cell_type": "code",
   "execution_count": 41,
   "id": "708e549e-f48d-4e56-8504-82ad56367bd5",
   "metadata": {},
   "outputs": [],
   "source": [
    "# Group by 'profile' and aggregate max, mean, and min for number_of_orders and prices\n",
    "profile_aggregates = dff.groupby('profile').agg({\n",
    "    'number_of_orders': ['max', 'mean', 'min'],\n",
    "    'prices': ['max', 'mean', 'min']\n",
    "}).reset_index()"
   ]
  },
  {
   "cell_type": "code",
   "execution_count": 42,
   "id": "a743a8f7-3988-45d5-8979-960e92e0e196",
   "metadata": {},
   "outputs": [
    {
     "name": "stdout",
     "output_type": "stream",
     "text": [
      "              Profile  Max Usage Frequency  Mean Usage Frequency  \\\n",
      "0  Established Family                   99             17.725023   \n",
      "1         Older Adult                   99             18.145845   \n",
      "2               Other                   99             17.027431   \n",
      "3         Young Adult                   99             16.026812   \n",
      "4        Young Parent                   99             17.550847   \n",
      "\n",
      "   Min Usage Frequency  Max Expenditure  Mean Expenditure  Min Expenditure  \n",
      "0                    1          99999.0         17.375453              1.0  \n",
      "1                    1          99999.0         17.275583              1.0  \n",
      "2                    1          99999.0         10.699237              1.0  \n",
      "3                    1             14.9          4.252405              1.1  \n",
      "4                    1          99999.0         25.046468              1.0  \n"
     ]
    }
   ],
   "source": [
    "# Display the aggregated DataFrame\n",
    "profile_aggregates.columns = ['Profile', 'Max Usage Frequency', 'Mean Usage Frequency', 'Min Usage Frequency',\n",
    "                              'Max Expenditure', 'Mean Expenditure', 'Min Expenditure']\n",
    "print(profile_aggregates)"
   ]
  },
  {
   "cell_type": "code",
   "execution_count": 43,
   "id": "26665530-cbe0-44f8-9306-9ddb18b9d613",
   "metadata": {},
   "outputs": [
    {
     "data": {
      "text/plain": [
       "Index(['product_id', 'product_name', 'aisle_id', 'department_id', 'prices',\n",
       "       'order_id', 'user_id', 'number_of_orders', 'weekday',\n",
       "       'order_hour_of_day', 'days_since_prior_order', 'add_to_cart_order',\n",
       "       'max_order', 'loyalty_flag', 'frequency_flag', 'Gender', 'state', 'Age',\n",
       "       'joining date', 'number of dependents', 'family status', 'income',\n",
       "       'region', 'mean_price', 'spending_flag', 'exclusion_flag', 'profile'],\n",
       "      dtype='object')"
      ]
     },
     "execution_count": 43,
     "metadata": {},
     "output_type": "execute_result"
    }
   ],
   "source": [
    "dff.columns"
   ]
  },
  {
   "cell_type": "markdown",
   "id": "5bdd7a84-042c-43c0-8564-bd5b1aef7a2a",
   "metadata": {},
   "source": [
    "# 08. Compare your customer profiles with regions and departments. Can you identify a link between them?"
   ]
  },
  {
   "cell_type": "code",
   "execution_count": 44,
   "id": "46cbada7-b277-4f49-9be7-c6c581c9082b",
   "metadata": {},
   "outputs": [],
   "source": [
    "# Aggregating the count of customers, average prices, and usage frequency by profile, region, and department\n",
    "profile_region_department = dff.groupby(['profile', 'region', 'department_id']).agg({\n",
    "    'user_id': 'nunique',         # Count unique users to get customer counts\n",
    "    'prices': 'mean',             # Average spending (prices)\n",
    "    'number_of_orders': 'mean'    # Average usage frequency\n",
    "}).reset_index()"
   ]
  },
  {
   "cell_type": "code",
   "execution_count": 45,
   "id": "49b1dbc6-de8b-4372-ac75-5dae4da96305",
   "metadata": {},
   "outputs": [
    {
     "name": "stdout",
     "output_type": "stream",
     "text": [
      "                Profile     Region  Department  Customer_Count  Avg_Spending  \\\n",
      "0    Established Family    Midwest           4            4815      8.064295   \n",
      "3    Established Family    Midwest          16            4756     43.862956   \n",
      "2    Established Family    Midwest          12            2999     16.370965   \n",
      "1    Established Family    Midwest           5             386      8.352144   \n",
      "4    Established Family  Northeast           4            3571      8.062404   \n",
      "..                  ...        ...         ...             ...           ...   \n",
      "132        Young Parent      South           6            3876      7.840886   \n",
      "138        Young Parent       West          16            6807     27.606105   \n",
      "137        Young Parent       West           7            6050      7.885775   \n",
      "139        Young Parent       West          17            3979      7.511845   \n",
      "136        Young Parent       West           6            2936      7.826793   \n",
      "\n",
      "     Avg_Usage_Frequency  \n",
      "0              17.839445  \n",
      "3              17.726998  \n",
      "2              16.019115  \n",
      "1              13.608261  \n",
      "4              18.091151  \n",
      "..                   ...  \n",
      "132            16.912049  \n",
      "138            18.032898  \n",
      "137            17.473494  \n",
      "139            15.916096  \n",
      "136            17.348963  \n",
      "\n",
      "[140 rows x 6 columns]\n"
     ]
    }
   ],
   "source": [
    "# Rename columns for clarity\n",
    "profile_region_department.columns = ['Profile', 'Region', 'Department', 'Customer_Count', 'Avg_Spending', 'Avg_Usage_Frequency']\n",
    "\n",
    "# Display the aggregated data\n",
    "profile_region_department_sorted = profile_region_department.sort_values(by=['Profile', 'Region', 'Customer_Count'], ascending=[True, True, False])\n",
    "print(profile_region_department_sorted)"
   ]
  },
  {
   "cell_type": "markdown",
   "id": "20ae924f-7917-4edf-8c2b-50a924f2eb50",
   "metadata": {},
   "source": [
    "## 8a. Visulalizations"
   ]
  },
  {
   "cell_type": "code",
   "execution_count": 46,
   "id": "e7360d3a-a6b5-4802-b710-04c0517f9f11",
   "metadata": {},
   "outputs": [],
   "source": [
    "# A) Customer Count Heatmap by Profile and Region\n",
    "# This heatmap will show which profiles are most prevalent in each region."
   ]
  },
  {
   "cell_type": "code",
   "execution_count": 48,
   "id": "87938ef2-79ed-4bbd-bc86-81516583de28",
   "metadata": {},
   "outputs": [],
   "source": [
    "# Filter out the \"Other\" profile\n",
    "filtered_data = profile_region_department[profile_region_department['Profile'] != 'Other']"
   ]
  },
  {
   "cell_type": "code",
   "execution_count": 53,
   "id": "2d7ec3c5-9246-481a-987e-5a1b52c72a83",
   "metadata": {
    "scrolled": true
   },
   "outputs": [
    {
     "data": {
      "image/png": "[encoded data removed]",
      "text/plain": [
       "<Figure size 1000x800 with 2 Axes>"
      ]
     },
     "metadata": {},
     "output_type": "display_data"
    }
   ],
   "source": [
    "# Pivot data for heatmap visualization\n",
    "heatmap_data = filtered_data.pivot_table(\n",
    "    index='Profile', columns='Region', values='Customer_Count', fill_value=0\n",
    ")\n",
    "\n",
    "# Plot heatmap\n",
    "fig_heatmap= plt.figure(figsize=(10, 8))\n",
    "sns.heatmap(heatmap_data, annot=True, fmt=\".0f\", cmap=\"YlGnBu\", cbar_kws={'label': 'Customer Count'})\n",
    "plt.title('Customer Count by Profile and Region (Excluding \"Other\")')\n",
    "plt.xlabel('Region')\n",
    "plt.ylabel('Profile')\n",
    "plt.show()"
   ]
  },
  {
   "cell_type": "code",
   "execution_count": 51,
   "id": "cfed2595-8e23-4eb5-9c06-88b3beb9eb01",
   "metadata": {},
   "outputs": [],
   "source": [
    "# Real life observation : Many ties in programmatic advertising, we may end up with small audience sizes for targeted campaigns \n",
    "# Making us consider look-alike audiences to derive real value from setting and running campaigns on nice audiences"
   ]
  },
  {
   "cell_type": "markdown",
   "id": "f1558437-dbc9-4b8f-9d03-6775266ea06c",
   "metadata": {},
   "source": [
    "# 09. Saving visualizations"
   ]
  },
  {
   "cell_type": "code",
   "execution_count": 52,
   "id": "141b1f75-bb71-4916-8ffe-05af614f6940",
   "metadata": {},
   "outputs": [],
   "source": [
    "# Directory to save images\n",
    "save_dir = os.path.join(path, '04 Analysis', 'Visualizations')"
   ]
  },
  {
   "cell_type": "code",
   "execution_count": 56,
   "id": "2ef2c0b4-fbc0-4a7a-898b-9e8c6d61b11b",
   "metadata": {},
   "outputs": [],
   "source": [
    "# Save the heatmap figure\n",
    "fig_heatmap.savefig(os.path.join(save_dir, 'customer_count_by_profile_and_region.png'), format='png', dpi=300, bbox_inches='tight')\n",
    "plt.show()"
   ]
  },
  {
   "cell_type": "code",
   "execution_count": 58,
   "id": "2c5b2ca7-1e33-4225-a5a3-a6efe37de686",
   "metadata": {},
   "outputs": [],
   "source": [
    "# Save the horizontal figure\n",
    "fig_profiledist_hor.savefig(os.path.join(save_dir, 'profile_distribution_horizontal.png'), format='png', dpi=300, bbox_inches='tight')\n",
    "plt.show()"
   ]
  },
  {
   "cell_type": "code",
   "execution_count": 59,
   "id": "329563a8-911b-498f-9337-2c354e627b04",
   "metadata": {},
   "outputs": [],
   "source": [
    "# Save the complete profile distribution\n",
    "fig_profiledist.savefig(os.path.join(save_dir, 'profile_distribution_complete.png'), format='png', dpi=300, bbox_inches='tight')\n",
    "plt.show()"
   ]
  },
  {
   "cell_type": "markdown",
   "id": "a767b6c4-f59e-4336-9637-be369fc41a5e",
   "metadata": {},
   "source": [
    "# 10. Exporting final dataframe"
   ]
  },
  {
   "cell_type": "code",
   "execution_count": 60,
   "id": "92955a42-8d74-439b-9c5f-b9f13765bf70",
   "metadata": {},
   "outputs": [],
   "source": [
    "#exporting as a pickle\n",
    "dff.to_pickle(os.path.join(path, '02 Data','Prepared Data', '410final_merge.pkl'))"
   ]
  },
  {
   "cell_type": "code",
   "execution_count": 61,
   "id": "c807ffbc-bd86-467a-9f30-a5725fde0e04",
   "metadata": {},
   "outputs": [
    {
     "data": {
      "text/plain": [
       "(32404859, 27)"
      ]
     },
     "execution_count": 61,
     "metadata": {},
     "output_type": "execute_result"
    }
   ],
   "source": [
    "dff.shape"
   ]
  },
  {
   "cell_type": "code",
   "execution_count": null,
   "id": "3babf385-ef09-4ecc-bea3-1d6cf452de94",
   "metadata": {},
   "outputs": [],
   "source": []
  }
 ],
 "metadata": {
  "kernelspec": {
   "display_name": "Python 3 (ipykernel)",
   "language": "python",
   "name": "python3"
  },
  "language_info": {
   "codemirror_mode": {
    "name": "ipython",
    "version": 3
   },
   "file_extension": ".py",
   "mimetype": "text/x-python",
   "name": "python",
   "nbconvert_exporter": "python",
   "pygments_lexer": "ipython3",
   "version": "3.12.4"
  }
 },
 "nbformat": 4,
 "nbformat_minor": 5
}

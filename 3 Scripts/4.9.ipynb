{
 "cells": [
  {
   "cell_type": "markdown",
   "id": "c34a7931-40a8-430c-86fb-6132c75d8182",
   "metadata": {},
   "source": [
    "# A. Importing libs"
   ]
  },
  {
   "cell_type": "code",
   "execution_count": 1,
   "id": "01d93c37-6970-4d96-bdb3-7831d213aa5d",
   "metadata": {},
   "outputs": [],
   "source": [
    "import pandas as pd\n",
    "import numpy as np\n",
    "import os\n",
    "import matplotlib.pyplot as plt\n",
    "import seaborn as sns\n",
    "import scipy"
   ]
  },
  {
   "cell_type": "markdown",
   "id": "0eb4173f-4fb8-454c-968b-96ce25aa4644",
   "metadata": {},
   "source": [
    "# B. Importing files"
   ]
  },
  {
   "cell_type": "code",
   "execution_count": 2,
   "id": "82b5306f-e751-4875-b011-62e6d76b5932",
   "metadata": {},
   "outputs": [],
   "source": [
    "# defining path\n",
    "path = r'C:\\Users\\hiron\\Documents\\050924_Instakart Basket analysis'"
   ]
  },
  {
   "cell_type": "code",
   "execution_count": 3,
   "id": "cd169907-e485-441f-9c2c-f4c7dd13cf14",
   "metadata": {},
   "outputs": [],
   "source": [
    "ords_prods_merge = pd.read_pickle(os.path.join(path, '02 Data', 'Prepared Data', 'orders_products_merged_grouping.pkl'))"
   ]
  },
  {
   "cell_type": "markdown",
   "id": "5ce41064-99a0-4246-a4b5-79e72259be05",
   "metadata": {},
   "source": [
    "# C. Creating first charts in Python yay"
   ]
  },
  {
   "cell_type": "markdown",
   "id": "b6f51ba2-a430-4ed8-9760-61164f18d5cb",
   "metadata": {},
   "source": [
    "## Bar chart"
   ]
  },
  {
   "cell_type": "code",
   "execution_count": 4,
   "id": "d8552751-6cf1-4bd7-ae26-c51ab16b4c79",
   "metadata": {},
   "outputs": [
    {
     "data": {
      "text/html": [
       "<div>\n",
       "<style scoped>\n",
       "    .dataframe tbody tr th:only-of-type {\n",
       "        vertical-align: middle;\n",
       "    }\n",
       "\n",
       "    .dataframe tbody tr th {\n",
       "        vertical-align: top;\n",
       "    }\n",
       "\n",
       "    .dataframe thead th {\n",
       "        text-align: right;\n",
       "    }\n",
       "</style>\n",
       "<table border=\"1\" class=\"dataframe\">\n",
       "  <thead>\n",
       "    <tr style=\"text-align: right;\">\n",
       "      <th></th>\n",
       "      <th>product_id</th>\n",
       "      <th>product_name</th>\n",
       "      <th>aisle_id</th>\n",
       "      <th>department_id</th>\n",
       "      <th>prices</th>\n",
       "      <th>order_id</th>\n",
       "      <th>user_id</th>\n",
       "      <th>number_of_orders</th>\n",
       "      <th>weekday</th>\n",
       "      <th>order_hour_of_day</th>\n",
       "      <th>...</th>\n",
       "      <th>reordered</th>\n",
       "      <th>price_range_loc</th>\n",
       "      <th>busiest days</th>\n",
       "      <th>busiest_period_of_day</th>\n",
       "      <th>max_order</th>\n",
       "      <th>loyalty_flag</th>\n",
       "      <th>mean_price</th>\n",
       "      <th>spending_flag</th>\n",
       "      <th>median_days_since_lastorder</th>\n",
       "      <th>frequency_flag</th>\n",
       "    </tr>\n",
       "  </thead>\n",
       "  <tbody>\n",
       "    <tr>\n",
       "      <th>0</th>\n",
       "      <td>1</td>\n",
       "      <td>Chocolate Sandwich Cookies</td>\n",
       "      <td>61</td>\n",
       "      <td>19</td>\n",
       "      <td>5.8</td>\n",
       "      <td>3139998</td>\n",
       "      <td>138</td>\n",
       "      <td>28</td>\n",
       "      <td>6</td>\n",
       "      <td>11</td>\n",
       "      <td>...</td>\n",
       "      <td>0</td>\n",
       "      <td>Mid-range product</td>\n",
       "      <td>Regularly busy</td>\n",
       "      <td>Most orders</td>\n",
       "      <td>32</td>\n",
       "      <td>Regular customer</td>\n",
       "      <td>6.935811</td>\n",
       "      <td>Low-spender</td>\n",
       "      <td>8.0</td>\n",
       "      <td>Frequent customer</td>\n",
       "    </tr>\n",
       "    <tr>\n",
       "      <th>1</th>\n",
       "      <td>1</td>\n",
       "      <td>Chocolate Sandwich Cookies</td>\n",
       "      <td>61</td>\n",
       "      <td>19</td>\n",
       "      <td>5.8</td>\n",
       "      <td>1977647</td>\n",
       "      <td>138</td>\n",
       "      <td>30</td>\n",
       "      <td>6</td>\n",
       "      <td>17</td>\n",
       "      <td>...</td>\n",
       "      <td>1</td>\n",
       "      <td>Mid-range product</td>\n",
       "      <td>Regularly busy</td>\n",
       "      <td>average orders</td>\n",
       "      <td>32</td>\n",
       "      <td>Regular customer</td>\n",
       "      <td>6.935811</td>\n",
       "      <td>Low-spender</td>\n",
       "      <td>8.0</td>\n",
       "      <td>Frequent customer</td>\n",
       "    </tr>\n",
       "    <tr>\n",
       "      <th>2</th>\n",
       "      <td>1</td>\n",
       "      <td>Chocolate Sandwich Cookies</td>\n",
       "      <td>61</td>\n",
       "      <td>19</td>\n",
       "      <td>5.8</td>\n",
       "      <td>389851</td>\n",
       "      <td>709</td>\n",
       "      <td>2</td>\n",
       "      <td>0</td>\n",
       "      <td>21</td>\n",
       "      <td>...</td>\n",
       "      <td>0</td>\n",
       "      <td>Mid-range product</td>\n",
       "      <td>Busiest days</td>\n",
       "      <td>average orders</td>\n",
       "      <td>5</td>\n",
       "      <td>New customer</td>\n",
       "      <td>7.930208</td>\n",
       "      <td>Low-spender</td>\n",
       "      <td>8.0</td>\n",
       "      <td>Frequent customer</td>\n",
       "    </tr>\n",
       "    <tr>\n",
       "      <th>3</th>\n",
       "      <td>1</td>\n",
       "      <td>Chocolate Sandwich Cookies</td>\n",
       "      <td>61</td>\n",
       "      <td>19</td>\n",
       "      <td>5.8</td>\n",
       "      <td>652770</td>\n",
       "      <td>764</td>\n",
       "      <td>1</td>\n",
       "      <td>3</td>\n",
       "      <td>13</td>\n",
       "      <td>...</td>\n",
       "      <td>0</td>\n",
       "      <td>Mid-range product</td>\n",
       "      <td>slowest days</td>\n",
       "      <td>Most orders</td>\n",
       "      <td>3</td>\n",
       "      <td>New customer</td>\n",
       "      <td>4.972414</td>\n",
       "      <td>Low-spender</td>\n",
       "      <td>9.0</td>\n",
       "      <td>Frequent customer</td>\n",
       "    </tr>\n",
       "    <tr>\n",
       "      <th>4</th>\n",
       "      <td>1</td>\n",
       "      <td>Chocolate Sandwich Cookies</td>\n",
       "      <td>61</td>\n",
       "      <td>19</td>\n",
       "      <td>5.8</td>\n",
       "      <td>1813452</td>\n",
       "      <td>764</td>\n",
       "      <td>3</td>\n",
       "      <td>4</td>\n",
       "      <td>17</td>\n",
       "      <td>...</td>\n",
       "      <td>1</td>\n",
       "      <td>Mid-range product</td>\n",
       "      <td>slowest days</td>\n",
       "      <td>average orders</td>\n",
       "      <td>3</td>\n",
       "      <td>New customer</td>\n",
       "      <td>4.972414</td>\n",
       "      <td>Low-spender</td>\n",
       "      <td>9.0</td>\n",
       "      <td>Frequent customer</td>\n",
       "    </tr>\n",
       "  </tbody>\n",
       "</table>\n",
       "<p>5 rows × 22 columns</p>\n",
       "</div>"
      ],
      "text/plain": [
       "   product_id                product_name  aisle_id  department_id  prices  \\\n",
       "0           1  Chocolate Sandwich Cookies        61             19     5.8   \n",
       "1           1  Chocolate Sandwich Cookies        61             19     5.8   \n",
       "2           1  Chocolate Sandwich Cookies        61             19     5.8   \n",
       "3           1  Chocolate Sandwich Cookies        61             19     5.8   \n",
       "4           1  Chocolate Sandwich Cookies        61             19     5.8   \n",
       "\n",
       "   order_id  user_id  number_of_orders  weekday  order_hour_of_day  ...  \\\n",
       "0   3139998      138                28        6                 11  ...   \n",
       "1   1977647      138                30        6                 17  ...   \n",
       "2    389851      709                 2        0                 21  ...   \n",
       "3    652770      764                 1        3                 13  ...   \n",
       "4   1813452      764                 3        4                 17  ...   \n",
       "\n",
       "   reordered    price_range_loc    busiest days busiest_period_of_day  \\\n",
       "0          0  Mid-range product  Regularly busy           Most orders   \n",
       "1          1  Mid-range product  Regularly busy        average orders   \n",
       "2          0  Mid-range product    Busiest days        average orders   \n",
       "3          0  Mid-range product    slowest days           Most orders   \n",
       "4          1  Mid-range product    slowest days        average orders   \n",
       "\n",
       "  max_order      loyalty_flag  mean_price spending_flag  \\\n",
       "0        32  Regular customer    6.935811   Low-spender   \n",
       "1        32  Regular customer    6.935811   Low-spender   \n",
       "2         5      New customer    7.930208   Low-spender   \n",
       "3         3      New customer    4.972414   Low-spender   \n",
       "4         3      New customer    4.972414   Low-spender   \n",
       "\n",
       "   median_days_since_lastorder     frequency_flag  \n",
       "0                          8.0  Frequent customer  \n",
       "1                          8.0  Frequent customer  \n",
       "2                          8.0  Frequent customer  \n",
       "3                          9.0  Frequent customer  \n",
       "4                          9.0  Frequent customer  \n",
       "\n",
       "[5 rows x 22 columns]"
      ]
     },
     "execution_count": 4,
     "metadata": {},
     "output_type": "execute_result"
    }
   ],
   "source": [
    "ords_prods_merge.head()"
   ]
  },
  {
   "cell_type": "code",
   "execution_count": 5,
   "id": "e1a53f2d-0d8b-46a2-8056-c7d46673fb50",
   "metadata": {},
   "outputs": [
    {
     "data": {
      "text/plain": [
       "(32404859, 22)"
      ]
     },
     "execution_count": 5,
     "metadata": {},
     "output_type": "execute_result"
    }
   ],
   "source": [
    "ords_prods_merge.shape"
   ]
  },
  {
   "cell_type": "code",
   "execution_count": 6,
   "id": "a3e70886-63c3-4179-bee6-c618b3becfe6",
   "metadata": {},
   "outputs": [],
   "source": [
    "ords_prods = ords_prods_merge.drop(columns = ['busiest days','price_range_loc','busiest_period_of_day','loyalty_flag','spending_flag','frequency_flag','median_days_since_lastorder'])"
   ]
  },
  {
   "cell_type": "code",
   "execution_count": 7,
   "id": "75c00c1d-4def-4142-80f5-525fd76313b7",
   "metadata": {},
   "outputs": [
    {
     "data": {
      "text/plain": [
       "(32404859, 15)"
      ]
     },
     "execution_count": 7,
     "metadata": {},
     "output_type": "execute_result"
    }
   ],
   "source": [
    "ords_prods.shape"
   ]
  },
  {
   "cell_type": "code",
   "execution_count": 8,
   "id": "f6dea2a7-76de-4c98-a664-1c4a95cb7df3",
   "metadata": {},
   "outputs": [
    {
     "data": {
      "text/html": [
       "<div>\n",
       "<style scoped>\n",
       "    .dataframe tbody tr th:only-of-type {\n",
       "        vertical-align: middle;\n",
       "    }\n",
       "\n",
       "    .dataframe tbody tr th {\n",
       "        vertical-align: top;\n",
       "    }\n",
       "\n",
       "    .dataframe thead th {\n",
       "        text-align: right;\n",
       "    }\n",
       "</style>\n",
       "<table border=\"1\" class=\"dataframe\">\n",
       "  <thead>\n",
       "    <tr style=\"text-align: right;\">\n",
       "      <th></th>\n",
       "      <th>product_id</th>\n",
       "      <th>product_name</th>\n",
       "      <th>aisle_id</th>\n",
       "      <th>department_id</th>\n",
       "      <th>prices</th>\n",
       "      <th>order_id</th>\n",
       "      <th>user_id</th>\n",
       "      <th>number_of_orders</th>\n",
       "      <th>weekday</th>\n",
       "      <th>order_hour_of_day</th>\n",
       "      <th>days_since_prior_order</th>\n",
       "      <th>add_to_cart_order</th>\n",
       "      <th>reordered</th>\n",
       "      <th>max_order</th>\n",
       "      <th>mean_price</th>\n",
       "    </tr>\n",
       "  </thead>\n",
       "  <tbody>\n",
       "    <tr>\n",
       "      <th>0</th>\n",
       "      <td>1</td>\n",
       "      <td>Chocolate Sandwich Cookies</td>\n",
       "      <td>61</td>\n",
       "      <td>19</td>\n",
       "      <td>5.8</td>\n",
       "      <td>3139998</td>\n",
       "      <td>138</td>\n",
       "      <td>28</td>\n",
       "      <td>6</td>\n",
       "      <td>11</td>\n",
       "      <td>3.0</td>\n",
       "      <td>5</td>\n",
       "      <td>0</td>\n",
       "      <td>32</td>\n",
       "      <td>6.935811</td>\n",
       "    </tr>\n",
       "    <tr>\n",
       "      <th>1</th>\n",
       "      <td>1</td>\n",
       "      <td>Chocolate Sandwich Cookies</td>\n",
       "      <td>61</td>\n",
       "      <td>19</td>\n",
       "      <td>5.8</td>\n",
       "      <td>1977647</td>\n",
       "      <td>138</td>\n",
       "      <td>30</td>\n",
       "      <td>6</td>\n",
       "      <td>17</td>\n",
       "      <td>20.0</td>\n",
       "      <td>1</td>\n",
       "      <td>1</td>\n",
       "      <td>32</td>\n",
       "      <td>6.935811</td>\n",
       "    </tr>\n",
       "    <tr>\n",
       "      <th>2</th>\n",
       "      <td>1</td>\n",
       "      <td>Chocolate Sandwich Cookies</td>\n",
       "      <td>61</td>\n",
       "      <td>19</td>\n",
       "      <td>5.8</td>\n",
       "      <td>389851</td>\n",
       "      <td>709</td>\n",
       "      <td>2</td>\n",
       "      <td>0</td>\n",
       "      <td>21</td>\n",
       "      <td>6.0</td>\n",
       "      <td>20</td>\n",
       "      <td>0</td>\n",
       "      <td>5</td>\n",
       "      <td>7.930208</td>\n",
       "    </tr>\n",
       "    <tr>\n",
       "      <th>3</th>\n",
       "      <td>1</td>\n",
       "      <td>Chocolate Sandwich Cookies</td>\n",
       "      <td>61</td>\n",
       "      <td>19</td>\n",
       "      <td>5.8</td>\n",
       "      <td>652770</td>\n",
       "      <td>764</td>\n",
       "      <td>1</td>\n",
       "      <td>3</td>\n",
       "      <td>13</td>\n",
       "      <td>NaN</td>\n",
       "      <td>10</td>\n",
       "      <td>0</td>\n",
       "      <td>3</td>\n",
       "      <td>4.972414</td>\n",
       "    </tr>\n",
       "    <tr>\n",
       "      <th>4</th>\n",
       "      <td>1</td>\n",
       "      <td>Chocolate Sandwich Cookies</td>\n",
       "      <td>61</td>\n",
       "      <td>19</td>\n",
       "      <td>5.8</td>\n",
       "      <td>1813452</td>\n",
       "      <td>764</td>\n",
       "      <td>3</td>\n",
       "      <td>4</td>\n",
       "      <td>17</td>\n",
       "      <td>9.0</td>\n",
       "      <td>11</td>\n",
       "      <td>1</td>\n",
       "      <td>3</td>\n",
       "      <td>4.972414</td>\n",
       "    </tr>\n",
       "  </tbody>\n",
       "</table>\n",
       "</div>"
      ],
      "text/plain": [
       "   product_id                product_name  aisle_id  department_id  prices  \\\n",
       "0           1  Chocolate Sandwich Cookies        61             19     5.8   \n",
       "1           1  Chocolate Sandwich Cookies        61             19     5.8   \n",
       "2           1  Chocolate Sandwich Cookies        61             19     5.8   \n",
       "3           1  Chocolate Sandwich Cookies        61             19     5.8   \n",
       "4           1  Chocolate Sandwich Cookies        61             19     5.8   \n",
       "\n",
       "   order_id  user_id  number_of_orders  weekday  order_hour_of_day  \\\n",
       "0   3139998      138                28        6                 11   \n",
       "1   1977647      138                30        6                 17   \n",
       "2    389851      709                 2        0                 21   \n",
       "3    652770      764                 1        3                 13   \n",
       "4   1813452      764                 3        4                 17   \n",
       "\n",
       "   days_since_prior_order  add_to_cart_order  reordered  max_order  mean_price  \n",
       "0                     3.0                  5          0         32    6.935811  \n",
       "1                    20.0                  1          1         32    6.935811  \n",
       "2                     6.0                 20          0          5    7.930208  \n",
       "3                     NaN                 10          0          3    4.972414  \n",
       "4                     9.0                 11          1          3    4.972414  "
      ]
     },
     "execution_count": 8,
     "metadata": {},
     "output_type": "execute_result"
    }
   ],
   "source": [
    "ords_prods.head()"
   ]
  },
  {
   "cell_type": "code",
   "execution_count": 9,
   "id": "304a38c3-f74b-4b71-87ca-0f38d657e7e9",
   "metadata": {},
   "outputs": [
    {
     "data": {
      "text/plain": [
       "<Axes: xlabel='weekday'>"
      ]
     },
     "execution_count": 9,
     "metadata": {},
     "output_type": "execute_result"
    },
    {
     "data": {
      "image/png": "[encoded data removed]",
      "text/plain": [
       "<Figure size 640x480 with 1 Axes>"
      ]
     },
     "metadata": {},
     "output_type": "display_data"
    }
   ],
   "source": [
    "ords_prods['weekday'].value_counts().plot.bar()"
   ]
  },
  {
   "cell_type": "code",
   "execution_count": 10,
   "id": "1fff4fd3-2b93-4f78-a509-5122f2d61625",
   "metadata": {},
   "outputs": [
    {
     "data": {
      "text/plain": [
       "<Axes: xlabel='weekday'>"
      ]
     },
     "execution_count": 10,
     "metadata": {},
     "output_type": "execute_result"
    },
    {
     "data": {
      "image/png": "[encoded data removed]",
      "text/plain": [
       "<Figure size 640x480 with 1 Axes>"
      ]
     },
     "metadata": {},
     "output_type": "display_data"
    }
   ],
   "source": [
    "# If we want to display it by the index increainsg\n",
    "ords_prods['weekday'].value_counts().sort_index().plot.bar()"
   ]
  },
  {
   "cell_type": "code",
   "execution_count": 11,
   "id": "0fc06a0f-e093-4f3f-ab35-4f628f78a87d",
   "metadata": {},
   "outputs": [
    {
     "data": {
      "text/plain": [
       "<Axes: xlabel='weekday'>"
      ]
     },
     "execution_count": 11,
     "metadata": {},
     "output_type": "execute_result"
    },
    {
     "data": {
      "image/png": "[encoded data removed]",
      "text/plain": [
       "<Figure size 640x480 with 1 Axes>"
      ]
     },
     "metadata": {},
     "output_type": "display_data"
    }
   ],
   "source": [
    "# to change color\n",
    "ords_prods['weekday'].value_counts().sort_index().plot.bar(color = ['yellow','gold','green'])"
   ]
  },
  {
   "cell_type": "markdown",
   "id": "396e6d70-bb20-4695-8149-cca5df51edb1",
   "metadata": {},
   "source": [
    "# D. Exporting charts"
   ]
  },
  {
   "cell_type": "code",
   "execution_count": 12,
   "id": "22a19a46-a77a-4b83-a1e4-e0ea22ac56cb",
   "metadata": {},
   "outputs": [
    {
     "data": {
      "image/png": "[encoded data removed]",
      "text/plain": [
       "<Figure size 640x480 with 1 Axes>"
      ]
     },
     "metadata": {},
     "output_type": "display_data"
    }
   ],
   "source": [
    "# First save it in an object lets say bar\n",
    "bar = ords_prods['weekday'].value_counts().sort_index().plot.bar(color = ['yellow','gold','green'])"
   ]
  },
  {
   "cell_type": "code",
   "execution_count": 13,
   "id": "d52e4525-6175-46df-ada4-039946b9f17e",
   "metadata": {},
   "outputs": [],
   "source": [
    "# This is now accessible via bar.figure command"
   ]
  },
  {
   "cell_type": "code",
   "execution_count": 14,
   "id": "f0e24527-0515-4efe-ba7e-2a656cef2899",
   "metadata": {},
   "outputs": [],
   "source": [
    "# The next step is to export it outside of Jupyter in the form of an image file. This can be done via the figure.savefig() function"
   ]
  },
  {
   "cell_type": "code",
   "execution_count": 15,
   "id": "ddceb905-66fe-4bdb-ae4c-a6801b2e86e2",
   "metadata": {},
   "outputs": [],
   "source": [
    "bar.figure.savefig(os.path.join(path, '04 Analysis','Visualizations', 'bar_orders_weekday.png'))"
   ]
  },
  {
   "cell_type": "markdown",
   "id": "6fb8b535-5c2f-4fa6-955e-2247e31cd153",
   "metadata": {},
   "source": [
    "## Creating histograms and scatterplots"
   ]
  },
  {
   "cell_type": "code",
   "execution_count": 16,
   "id": "ddcacd14-7677-497e-8c90-f1c22f27e861",
   "metadata": {},
   "outputs": [
    {
     "data": {
      "text/plain": [
       "<Axes: ylabel='Frequency'>"
      ]
     },
     "execution_count": 16,
     "metadata": {},
     "output_type": "execute_result"
    },
    {
     "data": {
      "image/png": "[encoded data removed]",
      "text/plain": [
       "<Figure size 640x480 with 1 Axes>"
      ]
     },
     "metadata": {},
     "output_type": "display_data"
    }
   ],
   "source": [
    "# Creating an histogram\n",
    "ords_prods['prices'].plot.hist(bins = 25)"
   ]
  },
  {
   "cell_type": "code",
   "execution_count": 17,
   "id": "0d063760-49b3-4d9f-ae2a-24a115bbf398",
   "metadata": {},
   "outputs": [
    {
     "data": {
      "text/plain": [
       "count    3.240486e+07\n",
       "mean     1.198023e+01\n",
       "std      4.956554e+02\n",
       "min      1.000000e+00\n",
       "25%      4.200000e+00\n",
       "50%      7.400000e+00\n",
       "75%      1.130000e+01\n",
       "max      9.999900e+04\n",
       "Name: prices, dtype: float64"
      ]
     },
     "execution_count": 17,
     "metadata": {},
     "output_type": "execute_result"
    }
   ],
   "source": [
    "ords_prods['prices'].describe()"
   ]
  },
  {
   "cell_type": "code",
   "execution_count": 18,
   "id": "003eed5c-b6a0-4572-9901-bd1a1fb28aec",
   "metadata": {},
   "outputs": [],
   "source": [
    "# Lets try investigating using a scatterplot"
   ]
  },
  {
   "cell_type": "code",
   "execution_count": 19,
   "id": "dfe03a8d-5277-4514-9175-0ebb855d26ed",
   "metadata": {},
   "outputs": [
    {
     "data": {
      "text/html": [
       "<div>\n",
       "<style scoped>\n",
       "    .dataframe tbody tr th:only-of-type {\n",
       "        vertical-align: middle;\n",
       "    }\n",
       "\n",
       "    .dataframe tbody tr th {\n",
       "        vertical-align: top;\n",
       "    }\n",
       "\n",
       "    .dataframe thead th {\n",
       "        text-align: right;\n",
       "    }\n",
       "</style>\n",
       "<table border=\"1\" class=\"dataframe\">\n",
       "  <thead>\n",
       "    <tr style=\"text-align: right;\">\n",
       "      <th></th>\n",
       "      <th>product_id</th>\n",
       "      <th>product_name</th>\n",
       "      <th>aisle_id</th>\n",
       "      <th>department_id</th>\n",
       "      <th>prices</th>\n",
       "      <th>order_id</th>\n",
       "      <th>user_id</th>\n",
       "      <th>number_of_orders</th>\n",
       "      <th>weekday</th>\n",
       "      <th>order_hour_of_day</th>\n",
       "      <th>days_since_prior_order</th>\n",
       "      <th>add_to_cart_order</th>\n",
       "      <th>reordered</th>\n",
       "      <th>max_order</th>\n",
       "      <th>mean_price</th>\n",
       "    </tr>\n",
       "  </thead>\n",
       "  <tbody>\n",
       "    <tr>\n",
       "      <th>13100147</th>\n",
       "      <td>21553</td>\n",
       "      <td>Lowfat 2% Milkfat Cottage Cheese</td>\n",
       "      <td>108</td>\n",
       "      <td>16</td>\n",
       "      <td>14900.0</td>\n",
       "      <td>912404</td>\n",
       "      <td>17</td>\n",
       "      <td>12</td>\n",
       "      <td>2</td>\n",
       "      <td>14</td>\n",
       "      <td>5.0</td>\n",
       "      <td>5</td>\n",
       "      <td>0</td>\n",
       "      <td>40</td>\n",
       "      <td>108.648299</td>\n",
       "    </tr>\n",
       "    <tr>\n",
       "      <th>13100148</th>\n",
       "      <td>21553</td>\n",
       "      <td>Lowfat 2% Milkfat Cottage Cheese</td>\n",
       "      <td>108</td>\n",
       "      <td>16</td>\n",
       "      <td>14900.0</td>\n",
       "      <td>603376</td>\n",
       "      <td>17</td>\n",
       "      <td>22</td>\n",
       "      <td>6</td>\n",
       "      <td>16</td>\n",
       "      <td>4.0</td>\n",
       "      <td>3</td>\n",
       "      <td>1</td>\n",
       "      <td>40</td>\n",
       "      <td>108.648299</td>\n",
       "    </tr>\n",
       "    <tr>\n",
       "      <th>13100149</th>\n",
       "      <td>21553</td>\n",
       "      <td>Lowfat 2% Milkfat Cottage Cheese</td>\n",
       "      <td>108</td>\n",
       "      <td>16</td>\n",
       "      <td>14900.0</td>\n",
       "      <td>3264360</td>\n",
       "      <td>135</td>\n",
       "      <td>2</td>\n",
       "      <td>2</td>\n",
       "      <td>21</td>\n",
       "      <td>13.0</td>\n",
       "      <td>6</td>\n",
       "      <td>0</td>\n",
       "      <td>4</td>\n",
       "      <td>1154.792308</td>\n",
       "    </tr>\n",
       "    <tr>\n",
       "      <th>13100150</th>\n",
       "      <td>21553</td>\n",
       "      <td>Lowfat 2% Milkfat Cottage Cheese</td>\n",
       "      <td>108</td>\n",
       "      <td>16</td>\n",
       "      <td>14900.0</td>\n",
       "      <td>892534</td>\n",
       "      <td>135</td>\n",
       "      <td>3</td>\n",
       "      <td>0</td>\n",
       "      <td>8</td>\n",
       "      <td>12.0</td>\n",
       "      <td>3</td>\n",
       "      <td>1</td>\n",
       "      <td>4</td>\n",
       "      <td>1154.792308</td>\n",
       "    </tr>\n",
       "    <tr>\n",
       "      <th>13100151</th>\n",
       "      <td>21553</td>\n",
       "      <td>Lowfat 2% Milkfat Cottage Cheese</td>\n",
       "      <td>108</td>\n",
       "      <td>16</td>\n",
       "      <td>14900.0</td>\n",
       "      <td>229704</td>\n",
       "      <td>342</td>\n",
       "      <td>8</td>\n",
       "      <td>1</td>\n",
       "      <td>19</td>\n",
       "      <td>30.0</td>\n",
       "      <td>9</td>\n",
       "      <td>0</td>\n",
       "      <td>16</td>\n",
       "      <td>114.426619</td>\n",
       "    </tr>\n",
       "    <tr>\n",
       "      <th>...</th>\n",
       "      <td>...</td>\n",
       "      <td>...</td>\n",
       "      <td>...</td>\n",
       "      <td>...</td>\n",
       "      <td>...</td>\n",
       "      <td>...</td>\n",
       "      <td>...</td>\n",
       "      <td>...</td>\n",
       "      <td>...</td>\n",
       "      <td>...</td>\n",
       "      <td>...</td>\n",
       "      <td>...</td>\n",
       "      <td>...</td>\n",
       "      <td>...</td>\n",
       "      <td>...</td>\n",
       "    </tr>\n",
       "    <tr>\n",
       "      <th>21786876</th>\n",
       "      <td>33664</td>\n",
       "      <td>2 % Reduced Fat  Milk</td>\n",
       "      <td>84</td>\n",
       "      <td>16</td>\n",
       "      <td>99999.0</td>\n",
       "      <td>2249946</td>\n",
       "      <td>204099</td>\n",
       "      <td>29</td>\n",
       "      <td>0</td>\n",
       "      <td>8</td>\n",
       "      <td>4.0</td>\n",
       "      <td>1</td>\n",
       "      <td>0</td>\n",
       "      <td>39</td>\n",
       "      <td>1106.743956</td>\n",
       "    </tr>\n",
       "    <tr>\n",
       "      <th>21786877</th>\n",
       "      <td>33664</td>\n",
       "      <td>2 % Reduced Fat  Milk</td>\n",
       "      <td>84</td>\n",
       "      <td>16</td>\n",
       "      <td>99999.0</td>\n",
       "      <td>2363282</td>\n",
       "      <td>204099</td>\n",
       "      <td>31</td>\n",
       "      <td>0</td>\n",
       "      <td>9</td>\n",
       "      <td>2.0</td>\n",
       "      <td>1</td>\n",
       "      <td>1</td>\n",
       "      <td>39</td>\n",
       "      <td>1106.743956</td>\n",
       "    </tr>\n",
       "    <tr>\n",
       "      <th>21786878</th>\n",
       "      <td>33664</td>\n",
       "      <td>2 % Reduced Fat  Milk</td>\n",
       "      <td>84</td>\n",
       "      <td>16</td>\n",
       "      <td>99999.0</td>\n",
       "      <td>3181945</td>\n",
       "      <td>204395</td>\n",
       "      <td>13</td>\n",
       "      <td>3</td>\n",
       "      <td>15</td>\n",
       "      <td>8.0</td>\n",
       "      <td>25</td>\n",
       "      <td>0</td>\n",
       "      <td>15</td>\n",
       "      <td>451.153540</td>\n",
       "    </tr>\n",
       "    <tr>\n",
       "      <th>21786879</th>\n",
       "      <td>33664</td>\n",
       "      <td>2 % Reduced Fat  Milk</td>\n",
       "      <td>84</td>\n",
       "      <td>16</td>\n",
       "      <td>99999.0</td>\n",
       "      <td>2486215</td>\n",
       "      <td>205227</td>\n",
       "      <td>7</td>\n",
       "      <td>3</td>\n",
       "      <td>20</td>\n",
       "      <td>4.0</td>\n",
       "      <td>8</td>\n",
       "      <td>0</td>\n",
       "      <td>12</td>\n",
       "      <td>1178.381871</td>\n",
       "    </tr>\n",
       "    <tr>\n",
       "      <th>21786880</th>\n",
       "      <td>33664</td>\n",
       "      <td>2 % Reduced Fat  Milk</td>\n",
       "      <td>84</td>\n",
       "      <td>16</td>\n",
       "      <td>99999.0</td>\n",
       "      <td>2232716</td>\n",
       "      <td>205227</td>\n",
       "      <td>10</td>\n",
       "      <td>0</td>\n",
       "      <td>11</td>\n",
       "      <td>4.0</td>\n",
       "      <td>23</td>\n",
       "      <td>1</td>\n",
       "      <td>12</td>\n",
       "      <td>1178.381871</td>\n",
       "    </tr>\n",
       "  </tbody>\n",
       "</table>\n",
       "<p>5127 rows × 15 columns</p>\n",
       "</div>"
      ],
      "text/plain": [
       "          product_id                      product_name  aisle_id  \\\n",
       "13100147       21553  Lowfat 2% Milkfat Cottage Cheese       108   \n",
       "13100148       21553  Lowfat 2% Milkfat Cottage Cheese       108   \n",
       "13100149       21553  Lowfat 2% Milkfat Cottage Cheese       108   \n",
       "13100150       21553  Lowfat 2% Milkfat Cottage Cheese       108   \n",
       "13100151       21553  Lowfat 2% Milkfat Cottage Cheese       108   \n",
       "...              ...                               ...       ...   \n",
       "21786876       33664             2 % Reduced Fat  Milk        84   \n",
       "21786877       33664             2 % Reduced Fat  Milk        84   \n",
       "21786878       33664             2 % Reduced Fat  Milk        84   \n",
       "21786879       33664             2 % Reduced Fat  Milk        84   \n",
       "21786880       33664             2 % Reduced Fat  Milk        84   \n",
       "\n",
       "          department_id   prices  order_id  user_id  number_of_orders  \\\n",
       "13100147             16  14900.0    912404       17                12   \n",
       "13100148             16  14900.0    603376       17                22   \n",
       "13100149             16  14900.0   3264360      135                 2   \n",
       "13100150             16  14900.0    892534      135                 3   \n",
       "13100151             16  14900.0    229704      342                 8   \n",
       "...                 ...      ...       ...      ...               ...   \n",
       "21786876             16  99999.0   2249946   204099                29   \n",
       "21786877             16  99999.0   2363282   204099                31   \n",
       "21786878             16  99999.0   3181945   204395                13   \n",
       "21786879             16  99999.0   2486215   205227                 7   \n",
       "21786880             16  99999.0   2232716   205227                10   \n",
       "\n",
       "          weekday  order_hour_of_day  days_since_prior_order  \\\n",
       "13100147        2                 14                     5.0   \n",
       "13100148        6                 16                     4.0   \n",
       "13100149        2                 21                    13.0   \n",
       "13100150        0                  8                    12.0   \n",
       "13100151        1                 19                    30.0   \n",
       "...           ...                ...                     ...   \n",
       "21786876        0                  8                     4.0   \n",
       "21786877        0                  9                     2.0   \n",
       "21786878        3                 15                     8.0   \n",
       "21786879        3                 20                     4.0   \n",
       "21786880        0                 11                     4.0   \n",
       "\n",
       "          add_to_cart_order  reordered  max_order   mean_price  \n",
       "13100147                  5          0         40   108.648299  \n",
       "13100148                  3          1         40   108.648299  \n",
       "13100149                  6          0          4  1154.792308  \n",
       "13100150                  3          1          4  1154.792308  \n",
       "13100151                  9          0         16   114.426619  \n",
       "...                     ...        ...        ...          ...  \n",
       "21786876                  1          0         39  1106.743956  \n",
       "21786877                  1          1         39  1106.743956  \n",
       "21786878                 25          0         15   451.153540  \n",
       "21786879                  8          0         12  1178.381871  \n",
       "21786880                 23          1         12  1178.381871  \n",
       "\n",
       "[5127 rows x 15 columns]"
      ]
     },
     "execution_count": 19,
     "metadata": {},
     "output_type": "execute_result"
    }
   ],
   "source": [
    "# lets try to find outliers and see what they are\n",
    "ords_prods.loc[ords_prods_merge['prices'] > 100]"
   ]
  },
  {
   "cell_type": "code",
   "execution_count": 20,
   "id": "60a6a7a1-6a76-4d44-999a-c05850131a4c",
   "metadata": {},
   "outputs": [],
   "source": [
    "# SInce the values dont make sense, we will assign them as nan or uknown\n",
    "ords_prods.loc[ords_prods['prices'] >100, 'prices'] = np.nan"
   ]
  },
  {
   "cell_type": "code",
   "execution_count": 21,
   "id": "c8c98c34-951d-4329-899f-503f58561a2f",
   "metadata": {},
   "outputs": [
    {
     "data": {
      "text/plain": [
       "25.0"
      ]
     },
     "execution_count": 21,
     "metadata": {},
     "output_type": "execute_result"
    }
   ],
   "source": [
    "ords_prods['prices'].max()"
   ]
  },
  {
   "cell_type": "code",
   "execution_count": 22,
   "id": "49134e69-9dd1-413b-a16b-128ae4d891a1",
   "metadata": {},
   "outputs": [
    {
     "data": {
      "text/plain": [
       "<Axes: ylabel='Frequency'>"
      ]
     },
     "execution_count": 22,
     "metadata": {},
     "output_type": "execute_result"
    },
    {
     "data": {
      "image/png": "[encoded data removed]",
      "text/plain": [
       "<Figure size 640x480 with 1 Axes>"
      ]
     },
     "metadata": {},
     "output_type": "display_data"
    }
   ],
   "source": [
    "# Creating an histogram\n",
    "ords_prods['prices'].plot.hist(bins = 60)"
   ]
  },
  {
   "cell_type": "code",
   "execution_count": 23,
   "id": "2d5af1b7-3e8f-4a5a-ae97-8435ee43989c",
   "metadata": {},
   "outputs": [
    {
     "data": {
      "image/png": "[encoded data removed]",
      "text/plain": [
       "<Figure size 640x480 with 1 Axes>"
      ]
     },
     "metadata": {},
     "output_type": "display_data"
    }
   ],
   "source": [
    "hist = ords_prods['prices'].plot.hist(bins = 60)"
   ]
  },
  {
   "cell_type": "code",
   "execution_count": 24,
   "id": "4dd33113-9987-4b08-8319-6ba743c77bb7",
   "metadata": {},
   "outputs": [],
   "source": [
    "hist.figure.savefig(os.path.join(path, '04 Analysis','Visualizations', 'hist_prices.png'))"
   ]
  },
  {
   "cell_type": "markdown",
   "id": "99e7c84e-ab75-4b8d-9c9a-f03f1a314887",
   "metadata": {},
   "source": [
    "## Creating line chart"
   ]
  },
  {
   "cell_type": "code",
   "execution_count": 25,
   "id": "79782bf8-e68e-4846-9605-62d5f84a5ed2",
   "metadata": {},
   "outputs": [],
   "source": [
    "# will need subsetting since it takes a lot of computing power"
   ]
  },
  {
   "cell_type": "code",
   "execution_count": 26,
   "id": "fc3b5107-0ed0-4b04-8077-406d356e5816",
   "metadata": {},
   "outputs": [],
   "source": [
    "df = ords_prods[:2000000]"
   ]
  },
  {
   "cell_type": "markdown",
   "id": "13aaa317-39df-433f-a773-37ad6cf21151",
   "metadata": {},
   "source": [
    "# E. Sampling data"
   ]
  },
  {
   "cell_type": "markdown",
   "id": "010d9b65-edca-4455-a131-75e6a6271eb9",
   "metadata": {},
   "source": [
    "### So, to recap each piece of the split code, you need to:\r\n",
    "\r\n",
    "Set the seed for the random number generator.\r\n",
    "Create 32,404,859 random numbers (the length of your ords_prods_merge dataframe) ranging between 0 and 1.\r\n",
    "Code a logical test comparing each of those numbers to a value of 0.7 (either less than or greater than 0.7).\r\n",
    "Store the results of the test in a new list, dev, in the form of boolean values (True and False)."
   ]
  },
  {
   "cell_type": "code",
   "execution_count": 27,
   "id": "c2ca6d57-93e6-4934-b0ea-1064ffaf8e8b",
   "metadata": {},
   "outputs": [],
   "source": [
    "np.random.seed(4)   # the number is not significant - you can put anything just use same thorughout for reproducability"
   ]
  },
  {
   "cell_type": "code",
   "execution_count": 28,
   "id": "94901bc3-f0e1-41cc-9c5b-999b2c58f5cb",
   "metadata": {},
   "outputs": [],
   "source": [
    "dev = np.random.rand(len(ords_prods)) <= 0.7   # this creates a boolean \n",
    "# np.random.rand will create numbers between 0 and 1"
   ]
  },
  {
   "cell_type": "code",
   "execution_count": 29,
   "id": "1492a00d-d68a-426a-b81f-062a6d1a5286",
   "metadata": {},
   "outputs": [
    {
     "data": {
      "text/plain": [
       "array([False,  True, False, ...,  True,  True,  True])"
      ]
     },
     "execution_count": 29,
     "metadata": {},
     "output_type": "execute_result"
    }
   ],
   "source": [
    "dev"
   ]
  },
  {
   "cell_type": "code",
   "execution_count": 30,
   "id": "71e65fcd-4f85-446c-ade5-43bda2c88d1e",
   "metadata": {},
   "outputs": [],
   "source": [
    "# Storing 70% of the datafreame in new subset big\n",
    "big = ords_prods[dev]"
   ]
  },
  {
   "cell_type": "code",
   "execution_count": 31,
   "id": "6baf9908-7e44-42fc-99f8-dc967f77ec0c",
   "metadata": {},
   "outputs": [],
   "source": [
    "# Storing 30% of the datafreame in new subset small\n",
    "small = ords_prods[~dev]"
   ]
  },
  {
   "cell_type": "code",
   "execution_count": 32,
   "id": "ced5800f-0942-4c2c-a5dd-c2990fa42937",
   "metadata": {},
   "outputs": [
    {
     "data": {
      "text/plain": [
       "32404859"
      ]
     },
     "execution_count": 32,
     "metadata": {},
     "output_type": "execute_result"
    }
   ],
   "source": [
    "len(ords_prods)"
   ]
  },
  {
   "cell_type": "code",
   "execution_count": 33,
   "id": "087fb576-90c8-4d65-8c77-2fcb1b00443c",
   "metadata": {},
   "outputs": [
    {
     "data": {
      "text/plain": [
       "32404859"
      ]
     },
     "execution_count": 33,
     "metadata": {},
     "output_type": "execute_result"
    }
   ],
   "source": [
    "len(big) + len(small)"
   ]
  },
  {
   "cell_type": "code",
   "execution_count": 34,
   "id": "746ed504-eceb-4576-b4cf-a51ecc40d7e2",
   "metadata": {},
   "outputs": [],
   "source": [
    "# Reducing the dataset to columns we need for the chart\n",
    "df_2 = small[['weekday','prices']]"
   ]
  },
  {
   "cell_type": "code",
   "execution_count": 36,
   "id": "593d7dfd-a1ec-48ad-b40e-ae1d4d2add29",
   "metadata": {},
   "outputs": [
    {
     "data": {
      "image/png": "[encoded data removed]",
      "text/plain": [
       "<Figure size 640x480 with 1 Axes>"
      ]
     },
     "metadata": {},
     "output_type": "display_data"
    }
   ],
   "source": [
    "line = sns.lineplot( data = df_2 , x = 'weekday', y = 'prices')"
   ]
  },
  {
   "cell_type": "code",
   "execution_count": 37,
   "id": "0a86bf92-7305-4a9c-afbc-de50896874e9",
   "metadata": {},
   "outputs": [],
   "source": [
    "df_main = ords_prods[['weekday','prices']]"
   ]
  },
  {
   "cell_type": "code",
   "execution_count": 39,
   "id": "a3288753-4690-4687-91b0-aac2cbb83808",
   "metadata": {},
   "outputs": [
    {
     "name": "stderr",
     "output_type": "stream",
     "text": [
      "C:\\Users\\hiron\\AppData\\Local\\Temp\\ipykernel_8052\\2751702823.py:1: FutureWarning: \n",
      "\n",
      "The `ci` parameter is deprecated. Use `errorbar=None` for the same effect.\n",
      "\n",
      "  line_main = sns.lineplot( data = df_main , x = 'weekday', y = 'prices',ci=None)\n"
     ]
    },
    {
     "ename": "KeyboardInterrupt",
     "evalue": "",
     "output_type": "error",
     "traceback": [
      "\u001b[1;31m---------------------------------------------------------------------------\u001b[0m",
      "\u001b[1;31mKeyboardInterrupt\u001b[0m                         Traceback (most recent call last)",
      "Cell \u001b[1;32mIn[39], line 1\u001b[0m\n\u001b[1;32m----> 1\u001b[0m line_main \u001b[38;5;241m=\u001b[39m sns\u001b[38;5;241m.\u001b[39mlineplot( data \u001b[38;5;241m=\u001b[39m df_main , x \u001b[38;5;241m=\u001b[39m \u001b[38;5;124m'\u001b[39m\u001b[38;5;124mweekday\u001b[39m\u001b[38;5;124m'\u001b[39m, y \u001b[38;5;241m=\u001b[39m \u001b[38;5;124m'\u001b[39m\u001b[38;5;124mprices\u001b[39m\u001b[38;5;124m'\u001b[39m,ci\u001b[38;5;241m=\u001b[39m\u001b[38;5;28;01mNone\u001b[39;00m)\n",
      "File \u001b[1;32mD:\\Installs\\Anaconda\\Lib\\site-packages\\seaborn\\relational.py:515\u001b[0m, in \u001b[0;36mlineplot\u001b[1;34m(data, x, y, hue, size, style, units, weights, palette, hue_order, hue_norm, sizes, size_order, size_norm, dashes, markers, style_order, estimator, errorbar, n_boot, seed, orient, sort, err_style, err_kws, legend, ci, ax, **kwargs)\u001b[0m\n\u001b[0;32m    512\u001b[0m color \u001b[38;5;241m=\u001b[39m kwargs\u001b[38;5;241m.\u001b[39mpop(\u001b[38;5;124m\"\u001b[39m\u001b[38;5;124mcolor\u001b[39m\u001b[38;5;124m\"\u001b[39m, kwargs\u001b[38;5;241m.\u001b[39mpop(\u001b[38;5;124m\"\u001b[39m\u001b[38;5;124mc\u001b[39m\u001b[38;5;124m\"\u001b[39m, \u001b[38;5;28;01mNone\u001b[39;00m))\n\u001b[0;32m    513\u001b[0m kwargs[\u001b[38;5;124m\"\u001b[39m\u001b[38;5;124mcolor\u001b[39m\u001b[38;5;124m\"\u001b[39m] \u001b[38;5;241m=\u001b[39m _default_color(ax\u001b[38;5;241m.\u001b[39mplot, hue, color, kwargs)\n\u001b[1;32m--> 515\u001b[0m p\u001b[38;5;241m.\u001b[39mplot(ax, kwargs)\n\u001b[0;32m    516\u001b[0m \u001b[38;5;28;01mreturn\u001b[39;00m ax\n",
      "File \u001b[1;32mD:\\Installs\\Anaconda\\Lib\\site-packages\\seaborn\\relational.py:276\u001b[0m, in \u001b[0;36m_LinePlotter.plot\u001b[1;34m(self, ax, kws)\u001b[0m\n\u001b[0;32m    268\u001b[0m \u001b[38;5;66;03m# TODO How to handle NA? We don't want NA to propagate through to the\u001b[39;00m\n\u001b[0;32m    269\u001b[0m \u001b[38;5;66;03m# estimate/CI when some values are present, but we would also like\u001b[39;00m\n\u001b[0;32m    270\u001b[0m \u001b[38;5;66;03m# matplotlib to show \"gaps\" in the line when all values are missing.\u001b[39;00m\n\u001b[1;32m   (...)\u001b[0m\n\u001b[0;32m    273\u001b[0m \n\u001b[0;32m    274\u001b[0m \u001b[38;5;66;03m# Loop over the semantic subsets and add to the plot\u001b[39;00m\n\u001b[0;32m    275\u001b[0m grouping_vars \u001b[38;5;241m=\u001b[39m \u001b[38;5;124m\"\u001b[39m\u001b[38;5;124mhue\u001b[39m\u001b[38;5;124m\"\u001b[39m, \u001b[38;5;124m\"\u001b[39m\u001b[38;5;124msize\u001b[39m\u001b[38;5;124m\"\u001b[39m, \u001b[38;5;124m\"\u001b[39m\u001b[38;5;124mstyle\u001b[39m\u001b[38;5;124m\"\u001b[39m\n\u001b[1;32m--> 276\u001b[0m \u001b[38;5;28;01mfor\u001b[39;00m sub_vars, sub_data \u001b[38;5;129;01min\u001b[39;00m \u001b[38;5;28mself\u001b[39m\u001b[38;5;241m.\u001b[39miter_data(grouping_vars, from_comp_data\u001b[38;5;241m=\u001b[39m\u001b[38;5;28;01mTrue\u001b[39;00m):\n\u001b[0;32m    278\u001b[0m     \u001b[38;5;28;01mif\u001b[39;00m \u001b[38;5;28mself\u001b[39m\u001b[38;5;241m.\u001b[39msort:\n\u001b[0;32m    279\u001b[0m         sort_vars \u001b[38;5;241m=\u001b[39m [\u001b[38;5;124m\"\u001b[39m\u001b[38;5;124munits\u001b[39m\u001b[38;5;124m\"\u001b[39m, orient, other]\n",
      "File \u001b[1;32mD:\\Installs\\Anaconda\\Lib\\site-packages\\seaborn\\_base.py:902\u001b[0m, in \u001b[0;36mVectorPlotter.iter_data\u001b[1;34m(self, grouping_vars, reverse, from_comp_data, by_facet, allow_empty, dropna)\u001b[0m\n\u001b[0;32m    899\u001b[0m grouping_vars \u001b[38;5;241m=\u001b[39m [var \u001b[38;5;28;01mfor\u001b[39;00m var \u001b[38;5;129;01min\u001b[39;00m grouping_vars \u001b[38;5;28;01mif\u001b[39;00m var \u001b[38;5;129;01min\u001b[39;00m \u001b[38;5;28mself\u001b[39m\u001b[38;5;241m.\u001b[39mvariables]\n\u001b[0;32m    901\u001b[0m \u001b[38;5;28;01mif\u001b[39;00m from_comp_data:\n\u001b[1;32m--> 902\u001b[0m     data \u001b[38;5;241m=\u001b[39m \u001b[38;5;28mself\u001b[39m\u001b[38;5;241m.\u001b[39mcomp_data\n\u001b[0;32m    903\u001b[0m \u001b[38;5;28;01melse\u001b[39;00m:\n\u001b[0;32m    904\u001b[0m     data \u001b[38;5;241m=\u001b[39m \u001b[38;5;28mself\u001b[39m\u001b[38;5;241m.\u001b[39mplot_data\n",
      "File \u001b[1;32mD:\\Installs\\Anaconda\\Lib\\site-packages\\seaborn\\_base.py:993\u001b[0m, in \u001b[0;36mVectorPlotter.comp_data\u001b[1;34m(self)\u001b[0m\n\u001b[0;32m    991\u001b[0m grouped \u001b[38;5;241m=\u001b[39m \u001b[38;5;28mself\u001b[39m\u001b[38;5;241m.\u001b[39mplot_data[var]\u001b[38;5;241m.\u001b[39mgroupby(\u001b[38;5;28mself\u001b[39m\u001b[38;5;241m.\u001b[39mconverters[var], sort\u001b[38;5;241m=\u001b[39m\u001b[38;5;28;01mFalse\u001b[39;00m)\n\u001b[0;32m    992\u001b[0m \u001b[38;5;28;01mfor\u001b[39;00m converter, orig \u001b[38;5;129;01min\u001b[39;00m grouped:\n\u001b[1;32m--> 993\u001b[0m     orig \u001b[38;5;241m=\u001b[39m orig\u001b[38;5;241m.\u001b[39mmask(orig\u001b[38;5;241m.\u001b[39misin([np\u001b[38;5;241m.\u001b[39minf, \u001b[38;5;241m-\u001b[39mnp\u001b[38;5;241m.\u001b[39minf]), np\u001b[38;5;241m.\u001b[39mnan)\n\u001b[0;32m    994\u001b[0m     orig \u001b[38;5;241m=\u001b[39m orig\u001b[38;5;241m.\u001b[39mdropna()\n\u001b[0;32m    995\u001b[0m     \u001b[38;5;28;01mif\u001b[39;00m var \u001b[38;5;129;01min\u001b[39;00m \u001b[38;5;28mself\u001b[39m\u001b[38;5;241m.\u001b[39mvar_levels:\n\u001b[0;32m    996\u001b[0m         \u001b[38;5;66;03m# TODO this should happen in some centralized location\u001b[39;00m\n\u001b[0;32m    997\u001b[0m         \u001b[38;5;66;03m# it is similar to GH2419, but more complicated because\u001b[39;00m\n\u001b[0;32m    998\u001b[0m         \u001b[38;5;66;03m# supporting `order` in categorical plots is tricky\u001b[39;00m\n",
      "File \u001b[1;32mD:\\Installs\\Anaconda\\Lib\\site-packages\\pandas\\core\\series.py:5559\u001b[0m, in \u001b[0;36mSeries.isin\u001b[1;34m(self, values)\u001b[0m\n\u001b[0;32m   5486\u001b[0m \u001b[38;5;28;01mdef\u001b[39;00m \u001b[38;5;21misin\u001b[39m(\u001b[38;5;28mself\u001b[39m, values) \u001b[38;5;241m-\u001b[39m\u001b[38;5;241m>\u001b[39m Series:\n\u001b[0;32m   5487\u001b[0m \u001b[38;5;250m    \u001b[39m\u001b[38;5;124;03m\"\"\"\u001b[39;00m\n\u001b[0;32m   5488\u001b[0m \u001b[38;5;124;03m    Whether elements in Series are contained in `values`.\u001b[39;00m\n\u001b[0;32m   5489\u001b[0m \n\u001b[1;32m   (...)\u001b[0m\n\u001b[0;32m   5557\u001b[0m \u001b[38;5;124;03m    dtype: bool\u001b[39;00m\n\u001b[0;32m   5558\u001b[0m \u001b[38;5;124;03m    \"\"\"\u001b[39;00m\n\u001b[1;32m-> 5559\u001b[0m     result \u001b[38;5;241m=\u001b[39m algorithms\u001b[38;5;241m.\u001b[39misin(\u001b[38;5;28mself\u001b[39m\u001b[38;5;241m.\u001b[39m_values, values)\n\u001b[0;32m   5560\u001b[0m     \u001b[38;5;28;01mreturn\u001b[39;00m \u001b[38;5;28mself\u001b[39m\u001b[38;5;241m.\u001b[39m_constructor(result, index\u001b[38;5;241m=\u001b[39m\u001b[38;5;28mself\u001b[39m\u001b[38;5;241m.\u001b[39mindex, copy\u001b[38;5;241m=\u001b[39m\u001b[38;5;28;01mFalse\u001b[39;00m)\u001b[38;5;241m.\u001b[39m__finalize__(\n\u001b[0;32m   5561\u001b[0m         \u001b[38;5;28mself\u001b[39m, method\u001b[38;5;241m=\u001b[39m\u001b[38;5;124m\"\u001b[39m\u001b[38;5;124misin\u001b[39m\u001b[38;5;124m\"\u001b[39m\n\u001b[0;32m   5562\u001b[0m     )\n",
      "File \u001b[1;32mD:\\Installs\\Anaconda\\Lib\\site-packages\\pandas\\core\\algorithms.py:545\u001b[0m, in \u001b[0;36misin\u001b[1;34m(comps, values)\u001b[0m\n\u001b[0;32m    542\u001b[0m     comps_array \u001b[38;5;241m=\u001b[39m comps_array\u001b[38;5;241m.\u001b[39mastype(common, copy\u001b[38;5;241m=\u001b[39m\u001b[38;5;28;01mFalse\u001b[39;00m)\n\u001b[0;32m    543\u001b[0m     f \u001b[38;5;241m=\u001b[39m htable\u001b[38;5;241m.\u001b[39mismember\n\u001b[1;32m--> 545\u001b[0m \u001b[38;5;28;01mreturn\u001b[39;00m f(comps_array, values)\n",
      "File \u001b[1;32mD:\\Installs\\Anaconda\\Lib\\site-packages\\pandas\\core\\algorithms.py:537\u001b[0m, in \u001b[0;36misin.<locals>.<lambda>\u001b[1;34m(a, b)\u001b[0m\n\u001b[0;32m    534\u001b[0m             \u001b[38;5;28;01mreturn\u001b[39;00m np\u001b[38;5;241m.\u001b[39mlogical_or(np\u001b[38;5;241m.\u001b[39misin(c, v)\u001b[38;5;241m.\u001b[39mravel(), np\u001b[38;5;241m.\u001b[39misnan(c))\n\u001b[0;32m    536\u001b[0m     \u001b[38;5;28;01melse\u001b[39;00m:\n\u001b[1;32m--> 537\u001b[0m         f \u001b[38;5;241m=\u001b[39m \u001b[38;5;28;01mlambda\u001b[39;00m a, b: np\u001b[38;5;241m.\u001b[39misin(a, b)\u001b[38;5;241m.\u001b[39mravel()\n\u001b[0;32m    539\u001b[0m \u001b[38;5;28;01melse\u001b[39;00m:\n\u001b[0;32m    540\u001b[0m     common \u001b[38;5;241m=\u001b[39m np_find_common_type(values\u001b[38;5;241m.\u001b[39mdtype, comps_array\u001b[38;5;241m.\u001b[39mdtype)\n",
      "File \u001b[1;32mD:\\Installs\\Anaconda\\Lib\\site-packages\\numpy\\lib\\arraysetops.py:890\u001b[0m, in \u001b[0;36misin\u001b[1;34m(element, test_elements, assume_unique, invert, kind)\u001b[0m\n\u001b[0;32m    769\u001b[0m \u001b[38;5;250m\u001b[39m\u001b[38;5;124;03m\"\"\"\u001b[39;00m\n\u001b[0;32m    770\u001b[0m \u001b[38;5;124;03mCalculates ``element in test_elements``, broadcasting over `element` only.\u001b[39;00m\n\u001b[0;32m    771\u001b[0m \u001b[38;5;124;03mReturns a boolean array of the same shape as `element` that is True\u001b[39;00m\n\u001b[1;32m   (...)\u001b[0m\n\u001b[0;32m    887\u001b[0m \u001b[38;5;124;03m       [ True, False]])\u001b[39;00m\n\u001b[0;32m    888\u001b[0m \u001b[38;5;124;03m\"\"\"\u001b[39;00m\n\u001b[0;32m    889\u001b[0m element \u001b[38;5;241m=\u001b[39m np\u001b[38;5;241m.\u001b[39masarray(element)\n\u001b[1;32m--> 890\u001b[0m \u001b[38;5;28;01mreturn\u001b[39;00m in1d(element, test_elements, assume_unique\u001b[38;5;241m=\u001b[39massume_unique,\n\u001b[0;32m    891\u001b[0m             invert\u001b[38;5;241m=\u001b[39minvert, kind\u001b[38;5;241m=\u001b[39mkind)\u001b[38;5;241m.\u001b[39mreshape(element\u001b[38;5;241m.\u001b[39mshape)\n",
      "File \u001b[1;32mD:\\Installs\\Anaconda\\Lib\\site-packages\\numpy\\lib\\arraysetops.py:733\u001b[0m, in \u001b[0;36min1d\u001b[1;34m(ar1, ar2, assume_unique, invert, kind)\u001b[0m\n\u001b[0;32m    731\u001b[0m         mask \u001b[38;5;241m=\u001b[39m np\u001b[38;5;241m.\u001b[39mzeros(\u001b[38;5;28mlen\u001b[39m(ar1), dtype\u001b[38;5;241m=\u001b[39m\u001b[38;5;28mbool\u001b[39m)\n\u001b[0;32m    732\u001b[0m         \u001b[38;5;28;01mfor\u001b[39;00m a \u001b[38;5;129;01min\u001b[39;00m ar2:\n\u001b[1;32m--> 733\u001b[0m             mask \u001b[38;5;241m|\u001b[39m\u001b[38;5;241m=\u001b[39m (ar1 \u001b[38;5;241m==\u001b[39m a)\n\u001b[0;32m    734\u001b[0m     \u001b[38;5;28;01mreturn\u001b[39;00m mask\n\u001b[0;32m    736\u001b[0m \u001b[38;5;66;03m# Otherwise use sorting\u001b[39;00m\n",
      "\u001b[1;31mKeyboardInterrupt\u001b[0m: "
     ]
    },
    {
     "data": {
      "image/png": "[encoded data removed]",
      "text/plain": [
       "<Figure size 640x480 with 1 Axes>"
      ]
     },
     "metadata": {},
     "output_type": "display_data"
    }
   ],
   "source": [
    "line_main = sns.lineplot( data = df_main , x = 'weekday', y = 'prices',ci=None)"
   ]
  },
  {
   "cell_type": "code",
   "execution_count": null,
   "id": "ddb3f6a6-c674-4772-8692-67cfc4371e05",
   "metadata": {},
   "outputs": [],
   "source": []
  }
 ],
 "metadata": {
  "kernelspec": {
   "display_name": "Python 3 (ipykernel)",
   "language": "python",
   "name": "python3"
  },
  "language_info": {
   "codemirror_mode": {
    "name": "ipython",
    "version": 3
   },
   "file_extension": ".py",
   "mimetype": "text/x-python",
   "name": "python",
   "nbconvert_exporter": "python",
   "pygments_lexer": "ipython3",
   "version": "3.12.4"
  }
 },
 "nbformat": 4,
 "nbformat_minor": 5
}

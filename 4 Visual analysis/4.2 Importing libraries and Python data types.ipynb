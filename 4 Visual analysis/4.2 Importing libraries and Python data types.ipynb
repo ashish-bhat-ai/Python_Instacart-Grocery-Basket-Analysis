{
 "cells": [
  {
   "cell_type": "markdown",
   "id": "2065b7d6-5018-4312-a5b7-471279c44b81",
   "metadata": {},
   "source": [
    "# 01.Importing libraries"
   ]
  },
  {
   "cell_type": "code",
   "execution_count": 1,
   "id": "121ea82a-77a4-407f-87c5-7f17944a0dca",
   "metadata": {},
   "outputs": [],
   "source": [
    "# Import libraries\n",
    "import pandas as pd\n",
    "import numpy as np\n",
    "import os"
   ]
  },
  {
   "cell_type": "code",
   "execution_count": 2,
   "id": "690b61ee-694f-47c7-9fcf-b0bec4ac25f8",
   "metadata": {},
   "outputs": [],
   "source": [
    "# Integers\n",
    "x = 2"
   ]
  },
  {
   "cell_type": "code",
   "execution_count": 3,
   "id": "29db76cc-650e-48ca-8572-ab0afa340eec",
   "metadata": {},
   "outputs": [
    {
     "data": {
      "text/plain": [
       "2"
      ]
     },
     "execution_count": 3,
     "metadata": {},
     "output_type": "execute_result"
    }
   ],
   "source": [
    "x"
   ]
  },
  {
   "cell_type": "code",
   "execution_count": 4,
   "id": "2732ed58-0c7b-430f-9fc6-14ef7d2d0393",
   "metadata": {},
   "outputs": [
    {
     "name": "stdout",
     "output_type": "stream",
     "text": [
      "2\n"
     ]
    }
   ],
   "source": [
    "print(x)"
   ]
  },
  {
   "cell_type": "code",
   "execution_count": 5,
   "id": "06927c45-4388-4d4f-a1ef-c4eabc624c0b",
   "metadata": {},
   "outputs": [
    {
     "data": {
      "text/plain": [
       "int"
      ]
     },
     "execution_count": 5,
     "metadata": {},
     "output_type": "execute_result"
    }
   ],
   "source": [
    "type(x)"
   ]
  },
  {
   "cell_type": "code",
   "execution_count": 6,
   "id": "2598dbad-2dcc-4320-a0e1-7ced6b8f6ee3",
   "metadata": {},
   "outputs": [],
   "source": [
    "y=6.656"
   ]
  },
  {
   "cell_type": "code",
   "execution_count": 7,
   "id": "f1193db3-4858-45a8-b704-aa3e7451f7c5",
   "metadata": {},
   "outputs": [
    {
     "data": {
      "text/plain": [
       "float"
      ]
     },
     "execution_count": 7,
     "metadata": {},
     "output_type": "execute_result"
    }
   ],
   "source": [
    "type(y)"
   ]
  },
  {
   "cell_type": "code",
   "execution_count": 8,
   "id": "b292109e-0ff9-4285-9e01-748796dc24f7",
   "metadata": {},
   "outputs": [],
   "source": [
    "z = 'Brazil'"
   ]
  },
  {
   "cell_type": "code",
   "execution_count": 9,
   "id": "41a76cef-e602-4962-a35f-c05ccbedc38c",
   "metadata": {},
   "outputs": [
    {
     "data": {
      "text/plain": [
       "str"
      ]
     },
     "execution_count": 9,
     "metadata": {},
     "output_type": "execute_result"
    }
   ],
   "source": [
    "type(z)"
   ]
  },
  {
   "cell_type": "code",
   "execution_count": 10,
   "id": "5efa2669-84c9-4d3f-ad51-ef0be5c72e6a",
   "metadata": {},
   "outputs": [
    {
     "data": {
      "text/plain": [
       "bool"
      ]
     },
     "execution_count": 10,
     "metadata": {},
     "output_type": "execute_result"
    }
   ],
   "source": [
    "type(True)"
   ]
  },
  {
   "cell_type": "code",
   "execution_count": 11,
   "id": "ff55bbfd-9046-4e09-8188-1c494b2f019b",
   "metadata": {},
   "outputs": [
    {
     "ename": "NameError",
     "evalue": "name 'a' is not defined",
     "output_type": "error",
     "traceback": [
      "\u001b[1;31m---------------------------------------------------------------------------\u001b[0m",
      "\u001b[1;31mNameError\u001b[0m                                 Traceback (most recent call last)",
      "Cell \u001b[1;32mIn[11], line 1\u001b[0m\n\u001b[1;32m----> 1\u001b[0m c\u001b[38;5;241m=\u001b[39ma\u001b[38;5;241m+\u001b[39mb\n",
      "\u001b[1;31mNameError\u001b[0m: name 'a' is not defined"
     ]
    }
   ],
   "source": [
    "c=a+b"
   ]
  },
  {
   "cell_type": "code",
   "execution_count": 12,
   "id": "af1cd3c7-853b-4cc7-a32c-9d714f497663",
   "metadata": {},
   "outputs": [],
   "source": [
    "c=x+y"
   ]
  },
  {
   "cell_type": "code",
   "execution_count": 13,
   "id": "a8e3f7ed-f6bc-47df-a969-48a006ff777b",
   "metadata": {},
   "outputs": [
    {
     "name": "stdout",
     "output_type": "stream",
     "text": [
      "8.655999999999999\n"
     ]
    }
   ],
   "source": [
    "print(c)"
   ]
  },
  {
   "cell_type": "code",
   "execution_count": 14,
   "id": "f029360e-532b-4198-b37c-9844a3c5edd1",
   "metadata": {},
   "outputs": [
    {
     "data": {
      "text/plain": [
       "float"
      ]
     },
     "execution_count": 14,
     "metadata": {},
     "output_type": "execute_result"
    }
   ],
   "source": [
    "type(c)"
   ]
  },
  {
   "cell_type": "code",
   "execution_count": 15,
   "id": "9a112a9c-fb63-41ae-9991-b31a31683bf7",
   "metadata": {},
   "outputs": [
    {
     "data": {
      "text/plain": [
       "'Hello,World'"
      ]
     },
     "execution_count": 15,
     "metadata": {},
     "output_type": "execute_result"
    }
   ],
   "source": [
    "a='Hello,'\n",
    "b='World'\n",
    "a+b"
   ]
  },
  {
   "cell_type": "markdown",
   "id": "461869bc-db54-4674-a2fe-287189ddc7d8",
   "metadata": {},
   "source": [
    "## Exercise Working with python data types"
   ]
  },
  {
   "cell_type": "code",
   "execution_count": 16,
   "id": "a311680e-bf9e-4ff3-a6bc-eeed15981704",
   "metadata": {},
   "outputs": [],
   "source": [
    "# ways to reach 100"
   ]
  },
  {
   "cell_type": "code",
   "execution_count": 17,
   "id": "2c8dd59e-269b-48cf-86c6-b8720d76e3eb",
   "metadata": {},
   "outputs": [
    {
     "data": {
      "text/plain": [
       "100"
      ]
     },
     "execution_count": 17,
     "metadata": {},
     "output_type": "execute_result"
    }
   ],
   "source": [
    "#1\n",
    "a=5\n",
    "b=10\n",
    "c=2\n",
    "a*b*c"
   ]
  },
  {
   "cell_type": "code",
   "execution_count": 22,
   "id": "58828a3f-3565-47b1-a216-51a24dd3a58a",
   "metadata": {},
   "outputs": [
    {
     "data": {
      "text/plain": [
       "100"
      ]
     },
     "execution_count": 22,
     "metadata": {},
     "output_type": "execute_result"
    }
   ],
   "source": [
    "d=b**c\n",
    "d"
   ]
  },
  {
   "cell_type": "code",
   "execution_count": 23,
   "id": "01b7ecef-f859-47cd-837c-92ddf99e1674",
   "metadata": {},
   "outputs": [
    {
     "data": {
      "text/plain": [
       "100.0"
      ]
     },
     "execution_count": 23,
     "metadata": {},
     "output_type": "execute_result"
    }
   ],
   "source": [
    "d/2+50"
   ]
  },
  {
   "cell_type": "code",
   "execution_count": 24,
   "id": "b5bf9ff6-d139-47af-acf2-6b288af22986",
   "metadata": {},
   "outputs": [
    {
     "data": {
      "text/plain": [
       "float"
      ]
     },
     "execution_count": 24,
     "metadata": {},
     "output_type": "execute_result"
    }
   ],
   "source": [
    "type(d/2+50)"
   ]
  },
  {
   "cell_type": "code",
   "execution_count": 25,
   "id": "0c9c7858-7c72-4c6b-b5b8-9ab89ebc72f5",
   "metadata": {},
   "outputs": [
    {
     "data": {
      "text/plain": [
       "0.367978893286121"
      ]
     },
     "execution_count": 25,
     "metadata": {},
     "output_type": "execute_result"
    }
   ],
   "source": [
    "# float point division\n",
    "e=2.12\n",
    "f=5.7612\n",
    "e/f"
   ]
  },
  {
   "cell_type": "code",
   "execution_count": 27,
   "id": "d06c6c96-379d-4631-b9ef-068eb98ceb92",
   "metadata": {},
   "outputs": [
    {
     "data": {
      "text/plain": [
       "'perplexity'"
      ]
     },
     "execution_count": 27,
     "metadata": {},
     "output_type": "execute_result"
    }
   ],
   "source": [
    "# short word with concatenation of strings\n",
    "g='per'\n",
    "h='plex'\n",
    "i='ity'\n",
    "g+h+i"
   ]
  },
  {
   "cell_type": "code",
   "execution_count": 29,
   "id": "68a56508-4f22-4f99-8eb3-e78a63ff380e",
   "metadata": {},
   "outputs": [
    {
     "name": "stdout",
     "output_type": "stream",
     "text": [
      "The world of ai  is coming.The time of speed building is here.\n"
     ]
    }
   ],
   "source": [
    "j='The world '+'of ai '\n",
    "k=' is coming.'\n",
    "l='The time' + ' of speed building'\n",
    "m=' is here.'\n",
    "new_world_slogan=j+k+l+m\n",
    "print(new_world_slogan)\n"
   ]
  },
  {
   "cell_type": "code",
   "execution_count": 30,
   "id": "86fecbc2-2694-4082-9b1f-fde30194d9d0",
   "metadata": {},
   "outputs": [
    {
     "data": {
      "text/plain": [
       "'C:\\\\Users\\\\hiron\\\\Documents\\\\050924_Instakart Basket analysis\\\\03 Script'"
      ]
     },
     "execution_count": 30,
     "metadata": {},
     "output_type": "execute_result"
    }
   ],
   "source": [
    "pwd"
   ]
  },
  {
   "cell_type": "code",
   "execution_count": null,
   "id": "40af7b0c-113f-4dcc-bf75-5b749cdca0e9",
   "metadata": {},
   "outputs": [],
   "source": []
  }
 ],
 "metadata": {
  "kernelspec": {
   "display_name": "Python 3 (ipykernel)",
   "language": "python",
   "name": "python3"
  },
  "language_info": {
   "codemirror_mode": {
    "name": "ipython",
    "version": 3
   },
   "file_extension": ".py",
   "mimetype": "text/x-python",
   "name": "python",
   "nbconvert_exporter": "python",
   "pygments_lexer": "ipython3",
   "version": "3.12.4"
  }
 },
 "nbformat": 4,
 "nbformat_minor": 5
}
